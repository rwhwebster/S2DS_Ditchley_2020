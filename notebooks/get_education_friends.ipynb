{
 "cells": [
  {
   "cell_type": "markdown",
   "metadata": {},
   "source": [
    "# Scraping journalists then using twint to get who they follow"
   ]
  },
  {
   "cell_type": "code",
   "execution_count": 1,
   "metadata": {},
   "outputs": [],
   "source": [
    "import sys\n",
    "import os\n",
    "import time\n",
    "import json\n",
    "\n",
    "import nest_asyncio\n",
    "nest_asyncio.apply()\n",
    "import twint\n",
    "\n",
    "sys.path.insert(1, '../')\n",
    "from src.data import journalists as journos"
   ]
  },
  {
   "cell_type": "markdown",
   "metadata": {},
   "source": [
    "### 1. Getting journalist twitter handles according to topic"
   ]
  },
  {
   "cell_type": "code",
   "execution_count": 2,
   "metadata": {},
   "outputs": [
    {
     "name": "stdout",
     "output_type": "stream",
     "text": [
      "48\n"
     ]
    }
   ],
   "source": [
    "journo_handles = journos.get_handles_by_keyword('education')\n",
    "print(len(journo_handles))"
   ]
  },
  {
   "cell_type": "code",
   "execution_count": 3,
   "metadata": {},
   "outputs": [
    {
     "name": "stdout",
     "output_type": "stream",
     "text": [
      "['alicewoolley1', 'RichardA', 'sarahjewell21', 'camillahmturner', 'suzigodson', 'RosieDBennett', 'AJack', 'KitchenBee', 'tamcohen', 'branwenjeffreys', 'seanjcoughlan', 'ChrisGibsonNews', 'jamiemcbbc', 'Liz_Shaw', 'stvewan', 'HeatherSharp', 'Sanchia7', 'ITVMartha', 'pbearneITV', 'AliJKershaw', 'mark_mclaughlin', 'whazell', 'majohns', 'LaurenM0ss', 'ChrisJParr', 'higherbaker', 'jgro_the', 'MatthewReiszTHE', 'specseducation', 'Eleanor_Busby', 'geomr', 'LadyCatHT', 'AbbieWightwick', 'AnnMroz', 'SianGriffiths6', 'wstewarttes', 'nicolawoolcock', 'PaulJump', 'Annamckie', 'JohndickensSW', 'greenmiranda', 'AlixFox', 'attaineditor', 'FCDWhittaker', 'SimoneRensch', 'shanermann', 'bethanstaton', 'OxMailLiamRice']\n"
     ]
    }
   ],
   "source": [
    "print(journo_handles)"
   ]
  },
  {
   "cell_type": "markdown",
   "metadata": {},
   "source": [
    "### 2. Loop over journalists and get who they follow"
   ]
  },
  {
   "cell_type": "code",
   "execution_count": null,
   "metadata": {},
   "outputs": [],
   "source": [
    "def get_followers(username):\n",
    "    "
   ]
  },
  {
   "cell_type": "code",
   "execution_count": 4,
   "metadata": {},
   "outputs": [
    {
     "name": "stderr",
     "output_type": "stream",
     "text": [
      "CRITICAL:root:twint.get:User:'NoneType' object is not subscriptable\n",
      "CRITICAL:root:twint.feed:Follow:IndexError\n",
      "CRITICAL:root:twint.get:User:'NoneType' object is not subscriptable\n",
      "CRITICAL:root:twint.feed:Follow:IndexError\n",
      "CRITICAL:root:twint.feed:Follow:IndexError\n",
      "CRITICAL:root:twint.get:User:'NoneType' object is not subscriptable\n",
      "CRITICAL:root:twint.feed:Follow:IndexError\n",
      "CRITICAL:root:twint.get:User:'NoneType' object is not subscriptable\n",
      "CRITICAL:root:twint.feed:Follow:IndexError\n",
      "CRITICAL:root:twint.get:User:'NoneType' object is not subscriptable\n",
      "CRITICAL:root:twint.feed:Follow:IndexError\n",
      "CRITICAL:root:twint.feed:Follow:IndexError\n",
      "CRITICAL:root:twint.get:User:'NoneType' object is not subscriptable\n",
      "CRITICAL:root:twint.feed:Follow:IndexError\n",
      "CRITICAL:root:twint.feed:Follow:IndexError\n",
      "CRITICAL:root:twint.get:User:'NoneType' object is not subscriptable\n",
      "CRITICAL:root:twint.feed:Follow:IndexError\n",
      "CRITICAL:root:twint.feed:Follow:IndexError\n",
      "CRITICAL:root:twint.get:User:'NoneType' object is not subscriptable\n",
      "CRITICAL:root:twint.feed:Follow:IndexError\n",
      "CRITICAL:root:twint.get:User:'NoneType' object is not subscriptable\n",
      "CRITICAL:root:twint.feed:Follow:IndexError\n",
      "CRITICAL:root:twint.feed:Follow:IndexError\n",
      "CRITICAL:root:twint.get:User:'NoneType' object is not subscriptable\n",
      "CRITICAL:root:twint.feed:Follow:IndexError\n",
      "CRITICAL:root:twint.feed:Follow:IndexError\n",
      "CRITICAL:root:twint.get:User:'NoneType' object is not subscriptable\n",
      "CRITICAL:root:twint.feed:Follow:IndexError\n",
      "CRITICAL:root:twint.get:User:'NoneType' object is not subscriptable\n",
      "CRITICAL:root:twint.feed:Follow:IndexError\n",
      "CRITICAL:root:twint.get:User:'NoneType' object is not subscriptable\n",
      "CRITICAL:root:twint.feed:Follow:IndexError\n",
      "CRITICAL:root:twint.get:User:'NoneType' object is not subscriptable\n",
      "CRITICAL:root:twint.feed:Follow:IndexError\n",
      "CRITICAL:root:twint.get:User:'NoneType' object is not subscriptable\n",
      "CRITICAL:root:twint.feed:Follow:IndexError\n",
      "CRITICAL:root:twint.feed:Follow:IndexError\n",
      "CRITICAL:root:twint.get:User:'NoneType' object is not subscriptable\n",
      "CRITICAL:root:twint.feed:Follow:IndexError\n",
      "CRITICAL:root:twint.get:User:'NoneType' object is not subscriptable\n",
      "CRITICAL:root:twint.feed:Follow:IndexError\n",
      "CRITICAL:root:twint.feed:Follow:IndexError\n",
      "CRITICAL:root:twint.get:User:'NoneType' object is not subscriptable\n",
      "CRITICAL:root:twint.feed:Follow:IndexError\n",
      "CRITICAL:root:twint.feed:Follow:IndexError\n",
      "CRITICAL:root:twint.get:User:'NoneType' object is not subscriptable\n",
      "CRITICAL:root:twint.feed:Follow:IndexError\n",
      "CRITICAL:root:twint.feed:Follow:IndexError\n",
      "CRITICAL:root:twint.get:User:'NoneType' object is not subscriptable\n",
      "CRITICAL:root:twint.feed:Follow:IndexError\n",
      "CRITICAL:root:twint.feed:Follow:IndexError\n",
      "CRITICAL:root:twint.get:User:'NoneType' object is not subscriptable\n",
      "CRITICAL:root:twint.feed:Follow:IndexError\n",
      "CRITICAL:root:twint.get:User:'NoneType' object is not subscriptable\n",
      "CRITICAL:root:twint.feed:Follow:IndexError\n",
      "CRITICAL:root:twint.feed:Follow:IndexError\n",
      "CRITICAL:root:twint.get:User:'NoneType' object is not subscriptable\n",
      "CRITICAL:root:twint.feed:Follow:IndexError\n",
      "CRITICAL:root:twint.feed:Follow:IndexError\n",
      "CRITICAL:root:twint.get:User:'NoneType' object is not subscriptable\n",
      "CRITICAL:root:twint.feed:Follow:IndexError\n",
      "CRITICAL:root:twint.feed:Follow:IndexError\n",
      "CRITICAL:root:twint.get:User:'NoneType' object is not subscriptable\n",
      "CRITICAL:root:twint.feed:Follow:IndexError\n",
      "CRITICAL:root:twint.feed:Follow:IndexError\n",
      "CRITICAL:root:twint.get:User:'NoneType' object is not subscriptable\n",
      "CRITICAL:root:twint.feed:Follow:IndexError\n",
      "CRITICAL:root:twint.get:User:'NoneType' object is not subscriptable\n",
      "CRITICAL:root:twint.feed:Follow:IndexError\n",
      "CRITICAL:root:twint.feed:Follow:IndexError\n",
      "CRITICAL:root:twint.get:User:'NoneType' object is not subscriptable\n",
      "CRITICAL:root:twint.feed:Follow:IndexError\n",
      "CRITICAL:root:twint.feed:Follow:IndexError\n",
      "CRITICAL:root:twint.get:User:'NoneType' object is not subscriptable\n",
      "CRITICAL:root:twint.feed:Follow:IndexError\n",
      "CRITICAL:root:twint.get:User:'NoneType' object is not subscriptable\n",
      "CRITICAL:root:twint.feed:Follow:IndexError\n",
      "CRITICAL:root:twint.get:User:'NoneType' object is not subscriptable\n",
      "CRITICAL:root:twint.feed:Follow:IndexError\n",
      "CRITICAL:root:twint.feed:Follow:IndexError\n",
      "CRITICAL:root:twint.get:User:'NoneType' object is not subscriptable\n",
      "CRITICAL:root:twint.feed:Follow:IndexError\n",
      "CRITICAL:root:twint.get:User:'NoneType' object is not subscriptable\n",
      "CRITICAL:root:twint.feed:Follow:IndexError\n",
      "CRITICAL:root:twint.feed:Follow:IndexError\n",
      "CRITICAL:root:twint.get:User:'NoneType' object is not subscriptable\n",
      "CRITICAL:root:twint.feed:Follow:IndexError\n",
      "CRITICAL:root:twint.feed:Follow:IndexError\n",
      "CRITICAL:root:twint.get:User:'NoneType' object is not subscriptable\n",
      "CRITICAL:root:twint.feed:Follow:IndexError\n",
      "CRITICAL:root:twint.get:User:'NoneType' object is not subscriptable\n",
      "CRITICAL:root:twint.feed:Follow:IndexError\n",
      "CRITICAL:root:twint.feed:Follow:IndexError\n",
      "CRITICAL:root:twint.get:User:'NoneType' object is not subscriptable\n",
      "CRITICAL:root:twint.feed:Follow:IndexError\n",
      "CRITICAL:root:twint.feed:Follow:IndexError\n",
      "CRITICAL:root:twint.get:User:'NoneType' object is not subscriptable\n",
      "CRITICAL:root:twint.feed:Follow:IndexError\n",
      "CRITICAL:root:twint.get:User:'NoneType' object is not subscriptable\n",
      "CRITICAL:root:twint.feed:Follow:IndexError\n",
      "CRITICAL:root:twint.get:User:'NoneType' object is not subscriptable\n",
      "CRITICAL:root:twint.feed:Follow:IndexError\n",
      "CRITICAL:root:twint.get:User:'NoneType' object is not subscriptable\n",
      "CRITICAL:root:twint.feed:Follow:IndexError\n",
      "CRITICAL:root:twint.feed:Follow:IndexError\n",
      "CRITICAL:root:twint.get:User:'NoneType' object is not subscriptable\n",
      "CRITICAL:root:twint.feed:Follow:IndexError\n",
      "CRITICAL:root:twint.get:User:'NoneType' object is not subscriptable\n",
      "CRITICAL:root:twint.feed:Follow:IndexError\n",
      "CRITICAL:root:twint.feed:Follow:IndexError\n",
      "CRITICAL:root:twint.get:User:'NoneType' object is not subscriptable\n",
      "CRITICAL:root:twint.feed:Follow:IndexError\n",
      "CRITICAL:root:twint.get:User:'NoneType' object is not subscriptable\n",
      "CRITICAL:root:twint.feed:Follow:IndexError\n",
      "CRITICAL:root:twint.get:User:'NoneType' object is not subscriptable\n",
      "CRITICAL:root:twint.feed:Follow:IndexError\n",
      "CRITICAL:root:twint.get:User:'NoneType' object is not subscriptable\n",
      "CRITICAL:root:twint.feed:Follow:IndexError\n",
      "CRITICAL:root:twint.get:User:'NoneType' object is not subscriptable\n",
      "CRITICAL:root:twint.feed:Follow:IndexError\n"
     ]
    }
   ],
   "source": [
    "following = {}\n",
    "\n",
    "for username in journo_handles:\n",
    "    twint.output.follows_list = []\n",
    "    c = twint.Config()\n",
    "    c.Username = username\n",
    "    c.User_full = False\n",
    "    c.Store_object = True\n",
    "    c.Hide_output = True\n",
    "    \n",
    "    twint.run.Following(c)\n",
    "    \n",
    "    following[username] = twint.output.follows_list"
   ]
  },
  {
   "cell_type": "code",
   "execution_count": 41,
   "metadata": {},
   "outputs": [
    {
     "name": "stdout",
     "output_type": "stream",
     "text": [
      "@alicewoolley1 follows 977 users.\n",
      "@RichardA follows 2568 users.\n",
      "@sarahjewell21 follows 655 users.\n",
      "@camillahmturner follows 2272 users.\n",
      "@suzigodson follows 4559 users.\n",
      "@RosieDBennett follows 1344 users.\n",
      "@AJack follows 1449 users.\n",
      "@KitchenBee follows 1687 users.\n",
      "@tamcohen follows 2166 users.\n",
      "@branwenjeffreys follows 2221 users.\n",
      "@seanjcoughlan follows 1830 users.\n",
      "@ChrisGibsonNews follows 1342 users.\n",
      "@jamiemcbbc follows 1378 users.\n",
      "@Liz_Shaw follows 1113 users.\n",
      "@stvewan follows 2916 users.\n",
      "@HeatherSharp follows 893 users.\n",
      "@Sanchia7 follows 1780 users.\n",
      "@ITVMartha follows 432 users.\n",
      "@pbearneITV follows 910 users.\n",
      "@AliJKershaw follows 1177 users.\n",
      "@mark_mclaughlin follows 2390 users.\n",
      "@whazell follows 1890 users.\n",
      "@majohns follows 5686 users.\n",
      "@LaurenM0ss follows 2278 users.\n",
      "@ChrisJParr follows 3828 users.\n",
      "@higherbaker follows 376 users.\n",
      "@jgro_the follows 1944 users.\n",
      "@MatthewReiszTHE follows 1139 users.\n",
      "@specseducation follows 3587 users.\n",
      "@Eleanor_Busby follows 1737 users.\n",
      "@geomr follows 4898 users.\n",
      "@LadyCatHT follows 1934 users.\n",
      "@AbbieWightwick follows 2476 users.\n",
      "@AnnMroz follows 1075 users.\n",
      "@SianGriffiths6 follows 6022 users.\n",
      "@wstewarttes follows 766 users.\n",
      "@nicolawoolcock follows 1431 users.\n",
      "@PaulJump follows 492 users.\n",
      "@Annamckie follows 1374 users.\n",
      "@JohndickensSW follows 1379 users.\n",
      "@greenmiranda follows 2340 users.\n",
      "@AlixFox follows 7730 users.\n",
      "@attaineditor follows 443 users.\n",
      "@FCDWhittaker follows 2275 users.\n",
      "@SimoneRensch follows 1033 users.\n",
      "@shanermann follows 1503 users.\n",
      "@bethanstaton follows 2506 users.\n",
      "@OxMailLiamRice follows 226 users.\n",
      "\n",
      "Total number of handles pulled: 98427\n",
      "Number of unique usernames: 66737\n",
      "\n",
      "Zero following in list for []\n"
     ]
    }
   ],
   "source": [
    "all_names = []\n",
    "all_handles = []\n",
    "for key in following.keys():\n",
    "    all_handles.extend(following[key])\n",
    "    all_names.extend([key for name in following[key]])\n",
    "    print('@'+key+' follows '+str(len(following[key]))+' users.')\n",
    "\n",
    "print('\\nTotal number of handles pulled: '+str(len(all_handles)))\n",
    "unique = len(set(all_handles))\n",
    "print('Number of unique usernames: '+str(unique))\n",
    "\n",
    "failed = []\n",
    "for key in following.keys():\n",
    "    if len(following[key])==0:\n",
    "        failed.append(key)\n",
    "\n",
    "print('\\nZero following in list for '+str(failed))"
   ]
  },
  {
   "cell_type": "markdown",
   "metadata": {},
   "source": [
    "If some of the requests seem to have failed, can try them again:"
   ]
  },
  {
   "cell_type": "code",
   "execution_count": 19,
   "metadata": {},
   "outputs": [
    {
     "name": "stderr",
     "output_type": "stream",
     "text": [
      "CRITICAL:root:twint.get:User:'NoneType' object is not subscriptable\n",
      "CRITICAL:root:twint.feed:Follow:IndexError\n",
      "CRITICAL:root:twint.feed:Follow:IndexError\n"
     ]
    }
   ],
   "source": [
    "for username in failed:\n",
    "    twint.output.follows_list = []\n",
    "    c = twint.Config()\n",
    "    c.Username = username\n",
    "    c.User_full = False\n",
    "    c.Store_object = True\n",
    "    c.Hide_output = True\n",
    "    \n",
    "    twint.run.Following(c)\n",
    "    \n",
    "    following[username] = twint.output.follows_list"
   ]
  },
  {
   "cell_type": "markdown",
   "metadata": {},
   "source": [
    "Interestingly, most of the handles must appear only once, suggesting there are only a few users that are followed by more than one of the journalists in this list."
   ]
  },
  {
   "cell_type": "code",
   "execution_count": 44,
   "metadata": {},
   "outputs": [
    {
     "data": {
      "text/html": [
       "<div>\n",
       "<style scoped>\n",
       "    .dataframe tbody tr th:only-of-type {\n",
       "        vertical-align: middle;\n",
       "    }\n",
       "\n",
       "    .dataframe tbody tr th {\n",
       "        vertical-align: top;\n",
       "    }\n",
       "\n",
       "    .dataframe thead th {\n",
       "        text-align: right;\n",
       "    }\n",
       "</style>\n",
       "<table border=\"1\" class=\"dataframe\">\n",
       "  <thead>\n",
       "    <tr style=\"text-align: right;\">\n",
       "      <th></th>\n",
       "      <th>screen_name</th>\n",
       "      <th>friend</th>\n",
       "    </tr>\n",
       "  </thead>\n",
       "  <tbody>\n",
       "    <tr>\n",
       "      <th>0</th>\n",
       "      <td>alicewoolley1</td>\n",
       "      <td>FloraBarton</td>\n",
       "    </tr>\n",
       "    <tr>\n",
       "      <th>1</th>\n",
       "      <td>alicewoolley1</td>\n",
       "      <td>KateWilliamsme</td>\n",
       "    </tr>\n",
       "    <tr>\n",
       "      <th>2</th>\n",
       "      <td>alicewoolley1</td>\n",
       "      <td>AdviserSuper</td>\n",
       "    </tr>\n",
       "    <tr>\n",
       "      <th>3</th>\n",
       "      <td>alicewoolley1</td>\n",
       "      <td>SolGamsu</td>\n",
       "    </tr>\n",
       "    <tr>\n",
       "      <th>4</th>\n",
       "      <td>alicewoolley1</td>\n",
       "      <td>sarahcpr</td>\n",
       "    </tr>\n",
       "  </tbody>\n",
       "</table>\n",
       "</div>"
      ],
      "text/plain": [
       "     screen_name          friend\n",
       "0  alicewoolley1     FloraBarton\n",
       "1  alicewoolley1  KateWilliamsme\n",
       "2  alicewoolley1    AdviserSuper\n",
       "3  alicewoolley1        SolGamsu\n",
       "4  alicewoolley1        sarahcpr"
      ]
     },
     "execution_count": 44,
     "metadata": {},
     "output_type": "execute_result"
    }
   ],
   "source": [
    "import pandas as pd\n",
    "df = pd.DataFrame(list(zip(all_names, all_handles)), \n",
    "               columns =['screen_name', 'friend'])\n",
    "df.head()"
   ]
  },
  {
   "cell_type": "code",
   "execution_count": 45,
   "metadata": {},
   "outputs": [],
   "source": [
    "df.to_csv('../data/raw/education_journalist_friends.csv', index=False)"
   ]
  },
  {
   "cell_type": "code",
   "execution_count": 38,
   "metadata": {},
   "outputs": [],
   "source": [
    "from collections import Counter"
   ]
  },
  {
   "cell_type": "code",
   "execution_count": 39,
   "metadata": {},
   "outputs": [],
   "source": [
    "counted = Counter(all_names)"
   ]
  },
  {
   "cell_type": "code",
   "execution_count": 40,
   "metadata": {},
   "outputs": [
    {
     "data": {
      "text/plain": [
       "[('educationgovuk', 34),\n",
       " ('tes', 34),\n",
       " ('BBCBreaking', 33),\n",
       " ('bbclaurak', 32),\n",
       " ('bbcnickrobinson', 30),\n",
       " ('PrivateEyeNews', 30),\n",
       " ('arusbridger', 30),\n",
       " ('SchoolsWeek', 29),\n",
       " ('guardian', 29),\n",
       " ('Peston', 28),\n",
       " ('RealGeoffBarton', 28),\n",
       " ('Ed_Miliband', 28),\n",
       " ('CommonsEd', 27),\n",
       " ('seanjcoughlan', 27),\n",
       " ('tom_watson', 27),\n",
       " ('BBCr4today', 27),\n",
       " ('GuardianEdu', 27),\n",
       " ('10DowningStreet', 27),\n",
       " ('SianGriffiths6', 27),\n",
       " ('BarackObama', 26),\n",
       " ('RichardA', 26),\n",
       " ('Ofstednews', 26),\n",
       " ('jonsnowC4', 26),\n",
       " ('BBCNewsnight', 26),\n",
       " ('xtophercook', 26),\n",
       " ('UniversitiesUK', 26),\n",
       " ('TheEconomist', 26),\n",
       " ('GuidoFawkes', 26),\n",
       " ('halfon4harlowMP', 25),\n",
       " ('Andrew_Adonis', 25),\n",
       " ('Samfr', 25),\n",
       " ('miss_mcinerney', 25),\n",
       " ('campbellclaret', 25),\n",
       " ('NickGibbUK', 24),\n",
       " ('markmleach', 24),\n",
       " ('Channel4News', 24),\n",
       " ('Ed_Dorrell', 24),\n",
       " ('jonathansimons', 24),\n",
       " ('GregHurstTimes', 24),\n",
       " ('paulwaugh', 24),\n",
       " ('FraserNelson', 24),\n",
       " ('David_Cameron', 24),\n",
       " ('afneil', 23),\n",
       " ('RichardVaughan1', 23),\n",
       " ('AngelaRayner', 23),\n",
       " ('nickhillman', 23),\n",
       " ('iankatz1000', 23),\n",
       " ('mediaguardian', 23),\n",
       " ('pressgazette', 23),\n",
       " ('RosieDBennett', 23)]"
      ]
     },
     "execution_count": 40,
     "metadata": {},
     "output_type": "execute_result"
    }
   ],
   "source": [
    "counted.most_common(50)"
   ]
  },
  {
   "cell_type": "code",
   "execution_count": 35,
   "metadata": {},
   "outputs": [],
   "source": []
  },
  {
   "cell_type": "code",
   "execution_count": 36,
   "metadata": {},
   "outputs": [
    {
     "data": {
      "text/plain": [
       "range(0, 20)"
      ]
     },
     "execution_count": 36,
     "metadata": {},
     "output_type": "execute_result"
    }
   ],
   "source": []
  },
  {
   "cell_type": "code",
   "execution_count": 37,
   "metadata": {},
   "outputs": [
    {
     "name": "stdout",
     "output_type": "stream",
     "text": [
      "0\n",
      "1\n",
      "2\n",
      "3\n",
      "4\n",
      "5\n",
      "6\n",
      "7\n",
      "8\n",
      "9\n",
      "10\n",
      "11\n",
      "12\n",
      "13\n",
      "14\n",
      "15\n",
      "16\n",
      "17\n",
      "18\n",
      "19\n"
     ]
    }
   ],
   "source": []
  },
  {
   "cell_type": "code",
   "execution_count": null,
   "metadata": {},
   "outputs": [],
   "source": []
  }
 ],
 "metadata": {
  "kernelspec": {
   "display_name": "Python 3",
   "language": "python",
   "name": "python3"
  },
  "language_info": {
   "codemirror_mode": {
    "name": "ipython",
    "version": 3
   },
   "file_extension": ".py",
   "mimetype": "text/x-python",
   "name": "python",
   "nbconvert_exporter": "python",
   "pygments_lexer": "ipython3",
   "version": "3.6.10"
  }
 },
 "nbformat": 4,
 "nbformat_minor": 4
}
