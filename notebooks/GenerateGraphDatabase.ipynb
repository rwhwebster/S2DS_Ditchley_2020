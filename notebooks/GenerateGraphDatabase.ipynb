{
 "cells": [
  {
   "cell_type": "markdown",
   "metadata": {},
   "source": [
    "# Generate Graph Database\n",
    "*AJH 07/08/20 for S2DS Ditchley Foundation project*\n",
    "\n",
    "This notebook demonstrates how to generate and to visualise a Neo4j graph database from .csv files using python packages."
   ]
  },
  {
   "cell_type": "code",
   "execution_count": 1,
   "metadata": {},
   "outputs": [],
   "source": [
    "# import the necessary python packages\n",
    "from py2neo import Graph\n",
    "from py2neo.data import Node, Relationship"
   ]
  },
  {
   "cell_type": "code",
   "execution_count": 5,
   "metadata": {},
   "outputs": [],
   "source": [
    "# load / declare the database\n",
    "graph = Graph(\"bolt://localhost:7687\", user=\"bluetit\", password=\"tweetoftheday\")\n",
    "graph.begin()\n",
    "\n",
    "# start with an empty graph\n",
    "graph.delete_all()"
   ]
  },
  {
   "cell_type": "markdown",
   "metadata": {},
   "source": [
    "The mock twitter user information is stored in a csv file. To load it into the graph we wrap a cypher query into a string and then run that query."
   ]
  },
  {
   "cell_type": "code",
   "execution_count": 6,
   "metadata": {},
   "outputs": [
    {
     "data": {
      "text/plain": [
       "<py2neo.database.Cursor at 0x1138de390>"
      ]
     },
     "execution_count": 6,
     "metadata": {},
     "output_type": "execute_result"
    }
   ],
   "source": [
    "# load in twitter user information\n",
    "query_string = '''\n",
    "   LOAD CSV WITH HEADERS FROM \"file:///twitter_dummy_users.csv\" AS row\n",
    "   CREATE (n:Person)\n",
    "   SET n = row;\n",
    "   '''\n",
    "# run cypher query\n",
    "graph.run(query_string)"
   ]
  },
  {
   "cell_type": "markdown",
   "metadata": {},
   "source": [
    "The follower information is also stored in a csv file. This file contains a list of pairs of ID numbers for the follower and the user being followed."
   ]
  },
  {
   "cell_type": "code",
   "execution_count": 7,
   "metadata": {},
   "outputs": [
    {
     "data": {
      "text/plain": [
       "<py2neo.database.Cursor at 0x1138de588>"
      ]
     },
     "execution_count": 7,
     "metadata": {},
     "output_type": "execute_result"
    }
   ],
   "source": [
    "# load in file containing follower information\n",
    "query_string = '''\n",
    "   LOAD CSV WITH HEADERS FROM 'file:///twitter_dummy_followers.csv' AS row\n",
    "   MATCH (p:Person) WHERE p.userID = row.userID\n",
    "   MATCH (n:Person) WHERE n.userID = row.followerID\n",
    "   CREATE (n)-[:Follows]->(p)\n",
    "   '''\n",
    "# runcypher query\n",
    "graph.run(query_string)"
   ]
  },
  {
   "cell_type": "markdown",
   "metadata": {},
   "source": [
    "Let's check that the graph has been drawn by counting the number of nodes and edges."
   ]
  },
  {
   "cell_type": "code",
   "execution_count": 8,
   "metadata": {},
   "outputs": [
    {
     "name": "stdout",
     "output_type": "stream",
     "text": [
      "No. nodes =  6\n",
      "No. edges =  13\n"
     ]
    }
   ],
   "source": [
    "#check nodes and edges have been created\n",
    "print('No. nodes = ',len(graph.nodes))\n",
    "print('No. edges = ',len(graph.relationships))"
   ]
  },
  {
   "cell_type": "markdown",
   "metadata": {},
   "source": [
    "We would like to visualise our graph. Let's use the jgraph package to make a 3D visualisation of the edges and nodes."
   ]
  },
  {
   "cell_type": "code",
   "execution_count": 10,
   "metadata": {},
   "outputs": [
    {
     "data": {
      "text/html": [
       "<div id=\"graph-f21c3e3f-f94c-46b4-9dcf-a70d88af8526\"></div>\n",
       "           <script type=\"text/javascript\">\n",
       "           require.config({baseUrl: '/',\n",
       "                             paths: {jgraph: ['nbextensions/jgraph.min', 'https://rawgit.com/patrickfuller/jgraph/master/js/build/jgraph.min']}});\n",
       "           require(['jgraph'], function () {\n",
       "               var $d = $('#graph-f21c3e3f-f94c-46b4-9dcf-a70d88af8526');\n",
       "               $d.width(600); $d.height(400);\n",
       "               $d.jgraph = jQuery.extend({}, jgraph);\n",
       "               $d.jgraph.create($d, {nodeSize: 2.000000,\n",
       "                                     edgeSize: 0.250000,\n",
       "                                     defaultNodeColor: '0x5bc0de',\n",
       "                                     defaultEdgeColor: '0xaaaaaa',\n",
       "                                     shader: 'basic',\n",
       "                                     z: 100,\n",
       "                                     runOptimization: true,\n",
       "                                     directed: true,\n",
       "                                     showSave: false});\n",
       "               $d.jgraph.draw({\n",
       "    \"edges\": [\n",
       "        { \"source\": 0, \"target\": 5 },\n",
       "        { \"source\": 1, \"target\": 4 },\n",
       "        { \"source\": 1, \"target\": 2 },\n",
       "        { \"source\": 1, \"target\": 1 },\n",
       "        { \"source\": 1, \"target\": 0 },\n",
       "        { \"source\": 2, \"target\": 4 },\n",
       "        { \"source\": 2, \"target\": 1 },\n",
       "        { \"source\": 2, \"target\": 0 },\n",
       "        { \"source\": 3, \"target\": 4 },\n",
       "        { \"source\": 3, \"target\": 1 },\n",
       "        { \"source\": 3, \"target\": 0 },\n",
       "        { \"source\": 4, \"target\": 2 },\n",
       "        { \"source\": 5, \"target\": 3 }\n",
       "    ],\n",
       "    \"nodes\": {\n",
       "        \"0\": { \"location\": [ -2.0, -2.0, -2.0 ] },\n",
       "        \"1\": { \"location\": [ -1.3879651429858328, -1.9504736510703717, -1.821312937333611 ] },\n",
       "        \"2\": { \"location\": [ -0.7094693136018213, -1.0758325412139635, -0.3649553830738628 ] },\n",
       "        \"3\": { \"location\": [ 0.44644270283586623, 0.9725221330553698, 0.8208549339668041 ] },\n",
       "        \"4\": { \"location\": [ 1.571302271396467, 1.6700202319443793, 1.7560469930737512 ] },\n",
       "        \"5\": { \"location\": [ 2.0, 2.0, 2.0 ] }\n",
       "    }\n",
       "});\n",
       "\n",
       "               $d.resizable({\n",
       "                   aspectRatio: 600 / 400,\n",
       "                   resize: function (evt, ui) {\n",
       "                       $d.jgraph.renderer.setSize(ui.size.width,\n",
       "                                                  ui.size.height);\n",
       "                   }\n",
       "               });\n",
       "           });\n",
       "           </script>"
      ],
      "text/plain": [
       "<IPython.core.display.HTML object>"
      ]
     },
     "metadata": {},
     "output_type": "display_data"
    }
   ],
   "source": [
    "import jgraph\n",
    "\n",
    "# run a query returning the 'Follows' edges \n",
    "data = graph.run(\"MATCH (a:Person)-[r:Follows]->(b:Person) RETURN a.userID, b.userID\")\n",
    "\n",
    "# initialise a list\n",
    "list_of_followers = []\n",
    "\n",
    "# put the follower information into a list of tuples to be read by jgraph\n",
    "for d in data:\n",
    "    list_of_followers.append((tuple([int(d[0]),int(d[1])])))\n",
    "\n",
    "# draw the graph\n",
    "jgraph.draw(list_of_followers)"
   ]
  }
 ],
 "metadata": {
  "kernelspec": {
   "display_name": "Python 3",
   "language": "python",
   "name": "python3"
  },
  "language_info": {
   "codemirror_mode": {
    "name": "ipython",
    "version": 3
   },
   "file_extension": ".py",
   "mimetype": "text/x-python",
   "name": "python",
   "nbconvert_exporter": "python",
   "pygments_lexer": "ipython3",
   "version": "3.6.10"
  }
 },
 "nbformat": 4,
 "nbformat_minor": 4
}
