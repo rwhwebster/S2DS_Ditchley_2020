{
 "cells": [
  {
   "cell_type": "code",
   "execution_count": 1,
   "metadata": {},
   "outputs": [],
   "source": [
    "import sys\n",
    "import os\n",
    "import itertools as it\n",
    "import pandas as pd\n",
    "import numpy as np\n",
    "from tqdm import tqdm\n",
    "tqdm.pandas(desc=\"progress-bar\")\n",
    "from gensim.models import Doc2Vec\n",
    "from sklearn import utils\n",
    "from sklearn.model_selection import train_test_split\n",
    "from sklearn import decomposition as skd\n",
    "from sklearn import feature_extraction as skfe\n",
    "from sklearn.linear_model import LogisticRegression\n",
    "from sklearn.metrics import accuracy_score, f1_score\n",
    "import gensim\n",
    "from gensim.models.doc2vec import TaggedDocument\n",
    "import re\n",
    "import random\n",
    "import matplotlib.pyplot as plt\n",
    "%matplotlib inline\n",
    "import seaborn as sns\n",
    "from collections import Counter\n",
    "import wikipedia\n",
    "import difflib\n",
    "import nltk\n",
    "#nltk.download('punkt')\n",
    "#nltk.download('stopwords')\n",
    "\n",
    "wikipedia.set_lang('en')\n",
    "\n"
   ]
  },
  {
   "cell_type": "code",
   "execution_count": 2,
   "metadata": {},
   "outputs": [],
   "source": [
    "sys.path.insert(1, '../')"
   ]
  },
  {
   "cell_type": "code",
   "execution_count": 3,
   "metadata": {},
   "outputs": [],
   "source": [
    "from src.data import journalists as journos\n",
    "from src.data import data_cleanup as dc\n",
    "from src.topics import hashtag_analysis as ha"
   ]
  },
  {
   "cell_type": "code",
   "execution_count": null,
   "metadata": {},
   "outputs": [],
   "source": [
    "!pip install gensim==3.8.3"
   ]
  },
  {
   "cell_type": "code",
   "execution_count": null,
   "metadata": {},
   "outputs": [],
   "source": [
    "!pip install wikipedia"
   ]
  },
  {
   "cell_type": "code",
   "execution_count": 4,
   "metadata": {},
   "outputs": [
    {
     "name": "stderr",
     "output_type": "stream",
     "text": [
      "Files: 100%|███████████████████████████████████████████████████████████████████████████| 40/40 [02:12<00:00,  3.31s/it]\n"
     ]
    }
   ],
   "source": [
    "#import data\n",
    "\n",
    "src_dir = r'C:\\Users\\elizabeth\\Documents\\cleaned tweets\\cyber friends tweets'\n",
    "\n",
    "files = [file for file in os.listdir(src_dir) if os.path.isfile(os.path.join(src_dir, file))] # build list of files to iterate through\n",
    "\n",
    "data = pd.DataFrame()\n",
    "\n",
    "with tqdm(total=len(files), desc='Files') as pbar:\n",
    "    for file in files:\n",
    "        df = pd.read_csv(os.path.join(src_dir, file), low_memory=False)\n",
    "        data = pd.concat([data, df[['tweet_id', 'text', 'hashtags']]], axis=0)\n",
    "        pbar.update(1)\n",
    "        \n",
    "data = data[data['hashtags'].astype(str) != '[]'] # remove empties\n",
    "data['text'] = data['text'].apply(lambda x: x.lower() if isinstance(x, str) else '')\n",
    "data = data[data.text != '']"
   ]
  },
  {
   "cell_type": "code",
   "execution_count": 5,
   "metadata": {},
   "outputs": [
    {
     "name": "stdout",
     "output_type": "stream",
     "text": [
      "<class 'pandas.core.frame.DataFrame'>\n",
      "Int64Index: 722766 entries, 1 to 87447\n",
      "Columns: 217116 entries, 00050c to 𝙏𝙐𝙀𝙎𝘿𝘼𝙔𝙏𝙐𝙉𝙀𝙎\n",
      "dtypes: Sparse[int64, 0](217116)\n",
      "memory usage: 21.7 MB\n"
     ]
    },
    {
     "data": {
      "text/plain": [
       "9.012709550464738e-06"
      ]
     },
     "execution_count": 5,
     "metadata": {},
     "output_type": "execute_result"
    }
   ],
   "source": [
    "hashtag_observations = ha.vectorize_wordlists(data['hashtags'])\n",
    "hashtag_observations.info()\n",
    "hashtag_observations.sparse.density"
   ]
  },
  {
   "cell_type": "code",
   "execution_count": 6,
   "metadata": {},
   "outputs": [
    {
     "name": "stdout",
     "output_type": "stream",
     "text": [
      "Sum of the explained variance = 0.189.\n"
     ]
    },
    {
     "data": {
      "image/png": "[encoded data removed]",
      "text/plain": [
       "<Figure size 720x360 with 1 Axes>"
      ]
     },
     "metadata": {
      "needs_background": "light"
     },
     "output_type": "display_data"
    }
   ],
   "source": [
    "hashtag_dimred, svd_comps = ha.SVD_on_vectors(hashtag_observations, n_components=100)"
   ]
  },
  {
   "cell_type": "code",
   "execution_count": 7,
   "metadata": {},
   "outputs": [
    {
     "data": {
      "text/html": [
       "<div>\n",
       "<style scoped>\n",
       "    .dataframe tbody tr th:only-of-type {\n",
       "        vertical-align: middle;\n",
       "    }\n",
       "\n",
       "    .dataframe tbody tr th {\n",
       "        vertical-align: top;\n",
       "    }\n",
       "\n",
       "    .dataframe thead th {\n",
       "        text-align: right;\n",
       "    }\n",
       "</style>\n",
       "<table border=\"1\" class=\"dataframe\">\n",
       "  <thead>\n",
       "    <tr style=\"text-align: right;\">\n",
       "      <th></th>\n",
       "      <th>keywords</th>\n",
       "    </tr>\n",
       "    <tr>\n",
       "      <th>topic</th>\n",
       "      <th></th>\n",
       "    </tr>\n",
       "  </thead>\n",
       "  <tbody>\n",
       "    <tr>\n",
       "      <th>0</th>\n",
       "      <td>[covid19]</td>\n",
       "    </tr>\n",
       "    <tr>\n",
       "      <th>1</th>\n",
       "      <td>[ai, cybersecurity, fintech]</td>\n",
       "    </tr>\n",
       "    <tr>\n",
       "      <th>2</th>\n",
       "      <td>[cybersecurity, infosec]</td>\n",
       "    </tr>\n",
       "    <tr>\n",
       "      <th>3</th>\n",
       "      <td>[fintech]</td>\n",
       "    </tr>\n",
       "    <tr>\n",
       "      <th>4</th>\n",
       "      <td>[coronavirus]</td>\n",
       "    </tr>\n",
       "    <tr>\n",
       "      <th>...</th>\n",
       "      <td>...</td>\n",
       "    </tr>\n",
       "    <tr>\n",
       "      <th>95</th>\n",
       "      <td>[economy, insurance, iran, sustainability]</td>\n",
       "    </tr>\n",
       "    <tr>\n",
       "      <th>96</th>\n",
       "      <td>[mondaymotivation, sustainability]</td>\n",
       "    </tr>\n",
       "    <tr>\n",
       "      <th>97</th>\n",
       "      <td>[mentalhealth, mondaymotivation]</td>\n",
       "    </tr>\n",
       "    <tr>\n",
       "      <th>98</th>\n",
       "      <td>[mondaymotivation]</td>\n",
       "    </tr>\n",
       "    <tr>\n",
       "      <th>99</th>\n",
       "      <td>[women, womenintech]</td>\n",
       "    </tr>\n",
       "  </tbody>\n",
       "</table>\n",
       "<p>100 rows × 1 columns</p>\n",
       "</div>"
      ],
      "text/plain": [
       "                                         keywords\n",
       "topic                                            \n",
       "0                                       [covid19]\n",
       "1                    [ai, cybersecurity, fintech]\n",
       "2                        [cybersecurity, infosec]\n",
       "3                                       [fintech]\n",
       "4                                   [coronavirus]\n",
       "...                                           ...\n",
       "95     [economy, insurance, iran, sustainability]\n",
       "96             [mondaymotivation, sustainability]\n",
       "97               [mentalhealth, mondaymotivation]\n",
       "98                             [mondaymotivation]\n",
       "99                           [women, womenintech]\n",
       "\n",
       "[100 rows x 1 columns]"
      ]
     },
     "execution_count": 7,
     "metadata": {},
     "output_type": "execute_result"
    }
   ],
   "source": [
    "topics = ha.make_topic_keywords_from_svd(svd_comps, threshold=0.2)\n",
    "topics"
   ]
  },
  {
   "cell_type": "code",
   "execution_count": 32,
   "metadata": {},
   "outputs": [],
   "source": [
    "topics = [['covid19', 'lockdown', 'coronavirus'],\n",
    "            ['ai', 'ml', 'datascience', 'artificalintelligence', 'machinelearning', 'bigdata'], \n",
    "            ['cybersecurity', 'iot', 'robotics', 'infosec'],\n",
    "            ['fintech', 'blockchain', 'payments', 'cryptocurrency', 'bitcoin', 'cyrpto', 'banking'],\n",
    "            ['brexit'],\n",
    "            ['startup', 'startups'],\n",
    "            ['china'],\n",
    "            ['blacklivesmatter'],\n",
    "          ['malware', 'ransomware', 'phising'],\n",
    "              ['environment', 'health', 'mentalhealth', 'research'],\n",
    "          ['beirut', 'belarus', 'lebanon'],\n",
    "          ['jobs', 'journalism', 'tourism', 'travel'],\n",
    "          ['property', 'realestate'],\n",
    "          ['gdpr', 'insurance', 'insurtech'],\n",
    "          ['climatechange', 'esg', 'sustainability'],\n",
    "          ['oil', 'oott', 'opec', 'russia']]"
   ]
  },
  {
   "cell_type": "markdown",
   "metadata": {},
   "source": [
    "#### assign topics to tweets"
   ]
  },
  {
   "cell_type": "code",
   "execution_count": 33,
   "metadata": {},
   "outputs": [
    {
     "data": {
      "text/html": [
       "<div>\n",
       "<style scoped>\n",
       "    .dataframe tbody tr th:only-of-type {\n",
       "        vertical-align: middle;\n",
       "    }\n",
       "\n",
       "    .dataframe tbody tr th {\n",
       "        vertical-align: top;\n",
       "    }\n",
       "\n",
       "    .dataframe thead th {\n",
       "        text-align: right;\n",
       "    }\n",
       "</style>\n",
       "<table border=\"1\" class=\"dataframe\">\n",
       "  <thead>\n",
       "    <tr style=\"text-align: right;\">\n",
       "      <th></th>\n",
       "      <th>tweet_id</th>\n",
       "      <th>text</th>\n",
       "      <th>hashtags</th>\n",
       "      <th>topic_labels</th>\n",
       "      <th>main_label</th>\n",
       "    </tr>\n",
       "  </thead>\n",
       "  <tbody>\n",
       "    <tr>\n",
       "      <th>1</th>\n",
       "      <td>1293934001514848256</td>\n",
       "      <td>rt breaking via fbi to join beirut blast probe...</td>\n",
       "      <td>['breaking', 'fbi', 'beirut', 'probe']</td>\n",
       "      <td>[10]</td>\n",
       "      <td>10</td>\n",
       "    </tr>\n",
       "    <tr>\n",
       "      <th>2</th>\n",
       "      <td>1293580602055299072</td>\n",
       "      <td>rt breaking lebanon prosecutor to question sev...</td>\n",
       "      <td>['breaking', 'beirutblast']</td>\n",
       "      <td>[16]</td>\n",
       "      <td>16</td>\n",
       "    </tr>\n",
       "    <tr>\n",
       "      <th>6</th>\n",
       "      <td>1292021027543953408</td>\n",
       "      <td>rt according to the lebanese health ministry o...</td>\n",
       "      <td>['beirutblast']</td>\n",
       "      <td>[16]</td>\n",
       "      <td>16</td>\n",
       "    </tr>\n",
       "    <tr>\n",
       "      <th>9</th>\n",
       "      <td>1291401752911257606</td>\n",
       "      <td>rt breaking imf urges lebanon to break reform ...</td>\n",
       "      <td>['breaking', 'lebanon']</td>\n",
       "      <td>[10]</td>\n",
       "      <td>10</td>\n",
       "    </tr>\n",
       "    <tr>\n",
       "      <th>12</th>\n",
       "      <td>1291331749956509698</td>\n",
       "      <td>macron says will pitch new political deal to l...</td>\n",
       "      <td>['lebanon']</td>\n",
       "      <td>[10]</td>\n",
       "      <td>10</td>\n",
       "    </tr>\n",
       "    <tr>\n",
       "      <th>...</th>\n",
       "      <td>...</td>\n",
       "      <td>...</td>\n",
       "      <td>...</td>\n",
       "      <td>...</td>\n",
       "      <td>...</td>\n",
       "    </tr>\n",
       "    <tr>\n",
       "      <th>87365</th>\n",
       "      <td>1270406159355334656</td>\n",
       "      <td>rt another fascinating panel this afternoon th...</td>\n",
       "      <td>['trust', 'technology']</td>\n",
       "      <td>[16]</td>\n",
       "      <td>16</td>\n",
       "    </tr>\n",
       "    <tr>\n",
       "      <th>87379</th>\n",
       "      <td>1268578990220029953</td>\n",
       "      <td>rt join this cogx panel to hear the latest exp...</td>\n",
       "      <td>['cogx2020']</td>\n",
       "      <td>[16]</td>\n",
       "      <td>16</td>\n",
       "    </tr>\n",
       "    <tr>\n",
       "      <th>87437</th>\n",
       "      <td>1260516465435906050</td>\n",
       "      <td>rt join us today bst to discuss whether a join...</td>\n",
       "      <td>['covid19uk', 'contacttracing']</td>\n",
       "      <td>[16]</td>\n",
       "      <td>16</td>\n",
       "    </tr>\n",
       "    <tr>\n",
       "      <th>87439</th>\n",
       "      <td>1260119164502659072</td>\n",
       "      <td>rt could ai get us out of lockdown a group of ...</td>\n",
       "      <td>['ai']</td>\n",
       "      <td>[1]</td>\n",
       "      <td>1</td>\n",
       "    </tr>\n",
       "    <tr>\n",
       "      <th>87447</th>\n",
       "      <td>1258725356988764162</td>\n",
       "      <td>rt view from on contacttracingapp carly kind d...</td>\n",
       "      <td>['contacttracingapp']</td>\n",
       "      <td>[16]</td>\n",
       "      <td>16</td>\n",
       "    </tr>\n",
       "  </tbody>\n",
       "</table>\n",
       "<p>722766 rows × 5 columns</p>\n",
       "</div>"
      ],
      "text/plain": [
       "                  tweet_id                                               text  \\\n",
       "1      1293934001514848256  rt breaking via fbi to join beirut blast probe...   \n",
       "2      1293580602055299072  rt breaking lebanon prosecutor to question sev...   \n",
       "6      1292021027543953408  rt according to the lebanese health ministry o...   \n",
       "9      1291401752911257606  rt breaking imf urges lebanon to break reform ...   \n",
       "12     1291331749956509698  macron says will pitch new political deal to l...   \n",
       "...                    ...                                                ...   \n",
       "87365  1270406159355334656  rt another fascinating panel this afternoon th...   \n",
       "87379  1268578990220029953  rt join this cogx panel to hear the latest exp...   \n",
       "87437  1260516465435906050  rt join us today bst to discuss whether a join...   \n",
       "87439  1260119164502659072  rt could ai get us out of lockdown a group of ...   \n",
       "87447  1258725356988764162  rt view from on contacttracingapp carly kind d...   \n",
       "\n",
       "                                     hashtags topic_labels  main_label  \n",
       "1      ['breaking', 'fbi', 'beirut', 'probe']         [10]          10  \n",
       "2                 ['breaking', 'beirutblast']         [16]          16  \n",
       "6                             ['beirutblast']         [16]          16  \n",
       "9                     ['breaking', 'lebanon']         [10]          10  \n",
       "12                                ['lebanon']         [10]          10  \n",
       "...                                       ...          ...         ...  \n",
       "87365                 ['trust', 'technology']         [16]          16  \n",
       "87379                            ['cogx2020']         [16]          16  \n",
       "87437         ['covid19uk', 'contacttracing']         [16]          16  \n",
       "87439                                  ['ai']          [1]           1  \n",
       "87447                   ['contacttracingapp']         [16]          16  \n",
       "\n",
       "[722766 rows x 5 columns]"
      ]
     },
     "execution_count": 33,
     "metadata": {},
     "output_type": "execute_result"
    }
   ],
   "source": [
    "def check_for_matches(tag_list, topic_list):\n",
    "    '''\n",
    "    \n",
    "    '''\n",
    "    matches = []\n",
    "    \n",
    "    # Compare list of hashtags in tweet against those in each topic\n",
    "    potential_matches = [bool(set(tag_list).intersection(set(topic))) for topic in topics]\n",
    "    if any(potential_matches):\n",
    "        matches.extend([i for i in range(len(potential_matches)) if potential_matches[i]])\n",
    "    else:\n",
    "        matches.append(16)\n",
    "    return matches\n",
    "\n",
    "possible_topics = data['hashtags'].apply(lambda x: check_for_matches(eval(x), topics))\n",
    "\n",
    "labelled_data = data.assign(topic_labels=possible_topics.values)\n",
    "labelled_data['main_label'] = labelled_data['topic_labels'].apply(lambda x: x[0])\n",
    "labelled_data"
   ]
  },
  {
   "cell_type": "code",
   "execution_count": 31,
   "metadata": {},
   "outputs": [
    {
     "data": {
      "image/png": "[encoded data removed]",
      "text/plain": [
       "<Figure size 720x1080 with 1 Axes>"
      ]
     },
     "metadata": {
      "needs_background": "light"
     },
     "output_type": "display_data"
    }
   ],
   "source": [
    "labelled_data['main_label'].value_counts().plot.barh()\n",
    "fig = plt.gcf()\n",
    "fig.set_size_inches(10,15)\n",
    "plt.xscale('log')\n",
    "plt.show()"
   ]
  },
  {
   "cell_type": "code",
   "execution_count": 36,
   "metadata": {},
   "outputs": [
    {
     "data": {
      "text/html": [
       "<div>\n",
       "<style scoped>\n",
       "    .dataframe tbody tr th:only-of-type {\n",
       "        vertical-align: middle;\n",
       "    }\n",
       "\n",
       "    .dataframe tbody tr th {\n",
       "        vertical-align: top;\n",
       "    }\n",
       "\n",
       "    .dataframe thead th {\n",
       "        text-align: right;\n",
       "    }\n",
       "</style>\n",
       "<table border=\"1\" class=\"dataframe\">\n",
       "  <thead>\n",
       "    <tr style=\"text-align: right;\">\n",
       "      <th></th>\n",
       "      <th>tweet_id</th>\n",
       "      <th>text</th>\n",
       "      <th>hashtags</th>\n",
       "      <th>topic_labels</th>\n",
       "      <th>main_label</th>\n",
       "    </tr>\n",
       "  </thead>\n",
       "  <tbody>\n",
       "    <tr>\n",
       "      <th>43804</th>\n",
       "      <td>1277999605624508417</td>\n",
       "      <td>rt why is mortality from coronavirus dispropor...</td>\n",
       "      <td>['coronavirus']</td>\n",
       "      <td>[0]</td>\n",
       "      <td>0</td>\n",
       "    </tr>\n",
       "    <tr>\n",
       "      <th>67057</th>\n",
       "      <td>1247854145874333697</td>\n",
       "      <td>rt what are some of the main formats sources a...</td>\n",
       "      <td>['covid19']</td>\n",
       "      <td>[0]</td>\n",
       "      <td>0</td>\n",
       "    </tr>\n",
       "    <tr>\n",
       "      <th>73289</th>\n",
       "      <td>1263825875449057281</td>\n",
       "      <td>uk borrowing at record high as coronavirus cos...</td>\n",
       "      <td>['borrowing', 'coronavirus', 'cheshire']</td>\n",
       "      <td>[0]</td>\n",
       "      <td>0</td>\n",
       "    </tr>\n",
       "    <tr>\n",
       "      <th>27685</th>\n",
       "      <td>1239631753456881666</td>\n",
       "      <td>macron makes his second televised address to t...</td>\n",
       "      <td>['covid19']</td>\n",
       "      <td>[0]</td>\n",
       "      <td>0</td>\n",
       "    </tr>\n",
       "    <tr>\n",
       "      <th>16455</th>\n",
       "      <td>1280894636127670273</td>\n",
       "      <td>rt thread will the coronavirus force putin to ...</td>\n",
       "      <td>['coronavirus']</td>\n",
       "      <td>[0]</td>\n",
       "      <td>0</td>\n",
       "    </tr>\n",
       "    <tr>\n",
       "      <th>...</th>\n",
       "      <td>...</td>\n",
       "      <td>...</td>\n",
       "      <td>...</td>\n",
       "      <td>...</td>\n",
       "      <td>...</td>\n",
       "    </tr>\n",
       "    <tr>\n",
       "      <th>8930</th>\n",
       "      <td>1168435148523802624</td>\n",
       "      <td>rt attention women in security join and sreels...</td>\n",
       "      <td>['sreelskshmyp', 'free']</td>\n",
       "      <td>[16]</td>\n",
       "      <td>16</td>\n",
       "    </tr>\n",
       "    <tr>\n",
       "      <th>18301</th>\n",
       "      <td>1269316742947495941</td>\n",
       "      <td>approximately feet below sea level is a detrit...</td>\n",
       "      <td>['sealifesaturday']</td>\n",
       "      <td>[16]</td>\n",
       "      <td>16</td>\n",
       "    </tr>\n",
       "    <tr>\n",
       "      <th>69461</th>\n",
       "      <td>953698667680157696</td>\n",
       "      <td>rt panel on secured debt at emceeforum reviewi...</td>\n",
       "      <td>['emceeforum']</td>\n",
       "      <td>[16]</td>\n",
       "      <td>16</td>\n",
       "    </tr>\n",
       "    <tr>\n",
       "      <th>21649</th>\n",
       "      <td>1192387466759507968</td>\n",
       "      <td>q conf season is here would be great to chat t...</td>\n",
       "      <td>['uidesign', 'csm', 'engineers']</td>\n",
       "      <td>[16]</td>\n",
       "      <td>16</td>\n",
       "    </tr>\n",
       "    <tr>\n",
       "      <th>15671</th>\n",
       "      <td>1154700310767706114</td>\n",
       "      <td>our world energy and infrastructure summit is ...</td>\n",
       "      <td>['ijlive19', 'projectfinance', 'energy', 'infr...</td>\n",
       "      <td>[16]</td>\n",
       "      <td>16</td>\n",
       "    </tr>\n",
       "  </tbody>\n",
       "</table>\n",
       "<p>34000 rows × 5 columns</p>\n",
       "</div>"
      ],
      "text/plain": [
       "                  tweet_id                                               text  \\\n",
       "43804  1277999605624508417  rt why is mortality from coronavirus dispropor...   \n",
       "67057  1247854145874333697  rt what are some of the main formats sources a...   \n",
       "73289  1263825875449057281  uk borrowing at record high as coronavirus cos...   \n",
       "27685  1239631753456881666  macron makes his second televised address to t...   \n",
       "16455  1280894636127670273  rt thread will the coronavirus force putin to ...   \n",
       "...                    ...                                                ...   \n",
       "8930   1168435148523802624  rt attention women in security join and sreels...   \n",
       "18301  1269316742947495941  approximately feet below sea level is a detrit...   \n",
       "69461   953698667680157696  rt panel on secured debt at emceeforum reviewi...   \n",
       "21649  1192387466759507968  q conf season is here would be great to chat t...   \n",
       "15671  1154700310767706114  our world energy and infrastructure summit is ...   \n",
       "\n",
       "                                                hashtags topic_labels  \\\n",
       "43804                                    ['coronavirus']          [0]   \n",
       "67057                                        ['covid19']          [0]   \n",
       "73289           ['borrowing', 'coronavirus', 'cheshire']          [0]   \n",
       "27685                                        ['covid19']          [0]   \n",
       "16455                                    ['coronavirus']          [0]   \n",
       "...                                                  ...          ...   \n",
       "8930                            ['sreelskshmyp', 'free']         [16]   \n",
       "18301                                ['sealifesaturday']         [16]   \n",
       "69461                                     ['emceeforum']         [16]   \n",
       "21649                   ['uidesign', 'csm', 'engineers']         [16]   \n",
       "15671  ['ijlive19', 'projectfinance', 'energy', 'infr...         [16]   \n",
       "\n",
       "       main_label  \n",
       "43804           0  \n",
       "67057           0  \n",
       "73289           0  \n",
       "27685           0  \n",
       "16455           0  \n",
       "...           ...  \n",
       "8930           16  \n",
       "18301          16  \n",
       "69461          16  \n",
       "21649          16  \n",
       "15671          16  \n",
       "\n",
       "[34000 rows x 5 columns]"
      ]
     },
     "execution_count": 36,
     "metadata": {},
     "output_type": "execute_result"
    }
   ],
   "source": [
    "sample_df = pd.DataFrame()\n",
    "for label in range(0,17):\n",
    "    rnd_idx = random.sample(range(labelled_data[labelled_data['main_label']==label].shape[0]), 2000)\n",
    "    sample_df = pd.concat([sample_df, labelled_data[labelled_data['main_label']==label].iloc[rnd_idx]], axis=0)\n",
    "sample_df"
   ]
  },
  {
   "cell_type": "code",
   "execution_count": 37,
   "metadata": {},
   "outputs": [
    {
     "data": {
      "text/plain": [
       "array([ 0,  1,  2,  3,  4,  5,  6,  7,  8,  9, 10, 11, 12, 13, 14, 15, 16],\n",
       "      dtype=int64)"
      ]
     },
     "execution_count": 37,
     "metadata": {},
     "output_type": "execute_result"
    }
   ],
   "source": [
    "sample_df['main_label'].unique()"
   ]
  },
  {
   "cell_type": "code",
   "execution_count": 38,
   "metadata": {},
   "outputs": [
    {
     "data": {
      "text/plain": [
       "main_label\n",
       "0     rt why is mortality from coronavirus dispropor...\n",
       "1     thanks to all who came along to working group ...\n",
       "2     cisa issued advisory update icsa osisoft pi sy...\n",
       "3     rt a treviso per parlare di fintech in modo co...\n",
       "4     rt say more resources needed to prepare for br...\n",
       "5     israel tech startup nation we re looking for s...\n",
       "6     china authorities explanation concerning merda...\n",
       "7     rt don t miss the latest weekly economics podc...\n",
       "8     here s how to protect yourself from ransomware...\n",
       "9     looking to speak to people who can t wear face...\n",
       "10    rt the beirut blast wiped out up to of lebanon...\n",
       "11    as domestic tourism returns where are the brig...\n",
       "12    are excited to announce that john king will be...\n",
       "13    what a reception for the intelligent insurer t...\n",
       "14    gpif cites study by our head of sustainable fi...\n",
       "15    russia is unlikely to accept a safe zone contr...\n",
       "16    rt unbeatableeva was really great to be on a v...\n",
       "Name: text, dtype: object"
      ]
     },
     "execution_count": 38,
     "metadata": {},
     "output_type": "execute_result"
    }
   ],
   "source": [
    "grouped = sample_df.groupby('main_label')['text'].agg(' '.join)\n",
    "grouped\n"
   ]
  },
  {
   "cell_type": "code",
   "execution_count": null,
   "metadata": {},
   "outputs": [],
   "source": [
    "!pip install wordcloud"
   ]
  },
  {
   "cell_type": "code",
   "execution_count": null,
   "metadata": {},
   "outputs": [],
   "source": [
    "from os import path\n",
    "from PIL import Image\n",
    "from wordcloud import WordCloud, STOPWORDS, ImageColorGenerator\n",
    "import matplotlib.pyplot as plt"
   ]
  },
  {
   "cell_type": "code",
   "execution_count": null,
   "metadata": {},
   "outputs": [],
   "source": [
    "def wordcloud_plot(text):\n",
    "    wordcloud = WordCloud(collocations=False, \n",
    "                          width = 1000, \n",
    "                          height = 700, \n",
    "                          background_color ='white', \n",
    "                          min_font_size = 10).generate(text)\n",
    "    \n",
    "    plt.figure(figsize = (8,8))\n",
    "    plt.imshow(wordcloud, interpolation='bilinear')\n",
    "    plt.axis(\"off\")\n",
    "    plt.tight_layout(pad = 0)\n",
    "    plt.savefig('image_x.jpeg')\n",
    "    plt.show()\n",
    "    "
   ]
  },
  {
   "cell_type": "code",
   "execution_count": null,
   "metadata": {},
   "outputs": [],
   "source": [
    "wordcloud_plot(grouped[0])"
   ]
  },
  {
   "cell_type": "code",
   "execution_count": null,
   "metadata": {},
   "outputs": [],
   "source": [
    "wordcloud_plot(grouped[1])"
   ]
  },
  {
   "cell_type": "code",
   "execution_count": null,
   "metadata": {},
   "outputs": [],
   "source": [
    "wordcloud_plot(grouped[2])"
   ]
  },
  {
   "cell_type": "code",
   "execution_count": null,
   "metadata": {
    "scrolled": true
   },
   "outputs": [],
   "source": [
    "wordcloud_plot(grouped[3])"
   ]
  },
  {
   "cell_type": "code",
   "execution_count": null,
   "metadata": {},
   "outputs": [],
   "source": [
    "wordcloud_plot(grouped[4])"
   ]
  },
  {
   "cell_type": "code",
   "execution_count": 39,
   "metadata": {},
   "outputs": [],
   "source": [
    "from nltk.corpus import stopwords\n",
    "stop_words = set(stopwords.words('english'))\n",
    "\n",
    "def tokenize_text(text):\n",
    "    tokens = []\n",
    "    for sent in nltk.sent_tokenize(text):\n",
    "        for word in nltk.word_tokenize(sent):\n",
    "            if (len(word) >= min_characters_word) & (word not in stop_words) : tokens.append(word)\n",
    "#            if (len(word) >= min_characters_word) : tokens.append(word)\n",
    "    return tokens\n"
   ]
  },
  {
   "cell_type": "markdown",
   "metadata": {},
   "source": [
    "# Pre-process training data"
   ]
  },
  {
   "cell_type": "markdown",
   "metadata": {},
   "source": [
    "Adapted from Martin's code ref:  https://towardsdatascience.com/multi-class-text-classification-with-doc2vec-logistic-regression-9da9947b43f4"
   ]
  },
  {
   "cell_type": "code",
   "execution_count": 40,
   "metadata": {},
   "outputs": [],
   "source": [
    "min_characters_sent = 3   #Min characters in a paragraph (inclusive)\n",
    "min_characters_word = 3     #Min characters in a word (inclusive)\n",
    "test_size = 0.2     #Fraction of corpus to keep back for testing"
   ]
  },
  {
   "cell_type": "code",
   "execution_count": 41,
   "metadata": {},
   "outputs": [
    {
     "name": "stdout",
     "output_type": "stream",
     "text": [
      "Wall time: 2min 39s\n"
     ]
    }
   ],
   "source": [
    "%time labelled_data['tokens'] = labelled_data['text'].apply(lambda x: tokenize_text(str(x)))"
   ]
  },
  {
   "cell_type": "code",
   "execution_count": 42,
   "metadata": {},
   "outputs": [],
   "source": [
    "train, test = train_test_split(labelled_data[['text', 'main_label', 'tokens']], test_size=test_size, random_state=42)\n",
    "\n",
    "train_tagged = train.apply(\n",
    "    lambda r: TaggedDocument(words=r['tokens'], tags=[str(r.main_label)]), axis=1)\n",
    "test_tagged = test.apply(\n",
    "    lambda r: TaggedDocument(words=r['tokens'], tags=[str(r.main_label)]), axis=1)"
   ]
  },
  {
   "cell_type": "markdown",
   "metadata": {},
   "source": [
    "# Apply models"
   ]
  },
  {
   "cell_type": "markdown",
   "metadata": {},
   "source": [
    "# # Distributed bag of words\n"
   ]
  },
  {
   "cell_type": "code",
   "execution_count": 43,
   "metadata": {},
   "outputs": [],
   "source": [
    "import multiprocessing\n",
    "cores = multiprocessing.cpu_count()"
   ]
  },
  {
   "cell_type": "code",
   "execution_count": 44,
   "metadata": {},
   "outputs": [
    {
     "name": "stderr",
     "output_type": "stream",
     "text": [
      "100%|█████████████████████████████████████████████████████████████████████| 578212/578212 [00:00<00:00, 2312865.65it/s]\n"
     ]
    }
   ],
   "source": [
    "#model_dbow = Doc2Vec(dm=0, vector_size=300, negative=5, hs=0, min_count=2, sample=0, workers=cores) #Values from tutorial\n",
    "\n",
    "model_dbow = Doc2Vec(dm=0, vector_size=300, negative=5, hs=1, min_count=2, sample=0, workers=cores) #My optimised values\n",
    "\n",
    "model_dbow.build_vocab([x for x in tqdm(train_tagged.values)])"
   ]
  },
  {
   "cell_type": "code",
   "execution_count": 45,
   "metadata": {},
   "outputs": [
    {
     "name": "stderr",
     "output_type": "stream",
     "text": [
      "100%|█████████████████████████████████████████████████████████████████████| 578212/578212 [00:00<00:00, 2643468.06it/s]\n",
      "100%|█████████████████████████████████████████████████████████████████████| 578212/578212 [00:00<00:00, 2846672.37it/s]\n",
      "100%|█████████████████████████████████████████████████████████████████████| 578212/578212 [00:00<00:00, 2055803.89it/s]\n",
      "100%|█████████████████████████████████████████████████████████████████████| 578212/578212 [00:00<00:00, 3083981.64it/s]\n",
      "100%|█████████████████████████████████████████████████████████████████████| 578212/578212 [00:00<00:00, 2858904.09it/s]\n",
      "100%|█████████████████████████████████████████████████████████████████████| 578212/578212 [00:00<00:00, 2846167.91it/s]\n",
      "100%|█████████████████████████████████████████████████████████████████████| 578212/578212 [00:00<00:00, 2846638.96it/s]\n",
      "100%|██████████████████████████████████████████████████████████████████████| 578212/578212 [00:01<00:00, 428354.46it/s]\n",
      "100%|██████████████████████████████████████████████████████████████████████| 578212/578212 [00:03<00:00, 162857.44it/s]\n",
      "100%|██████████████████████████████████████████████████████████████████████| 578212/578212 [00:01<00:00, 570978.50it/s]\n",
      "100%|█████████████████████████████████████████████████████████████████████| 578212/578212 [00:00<00:00, 1007393.42it/s]\n",
      "100%|██████████████████████████████████████████████████████████████████████| 578212/578212 [00:00<00:00, 973877.27it/s]\n",
      "100%|██████████████████████████████████████████████████████████████████████| 578212/578212 [00:00<00:00, 722290.61it/s]\n",
      "100%|█████████████████████████████████████████████████████████████████████| 578212/578212 [00:00<00:00, 1029172.18it/s]\n",
      "100%|██████████████████████████████████████████████████████████████████████| 578212/578212 [00:00<00:00, 820704.06it/s]\n",
      "100%|██████████████████████████████████████████████████████████████████████| 578212/578212 [00:02<00:00, 282113.70it/s]\n",
      "100%|██████████████████████████████████████████████████████████████████████| 578212/578212 [00:00<00:00, 618087.07it/s]\n",
      "100%|█████████████████████████████████████████████████████████████████████| 578212/578212 [00:00<00:00, 3025754.76it/s]\n",
      "100%|██████████████████████████████████████████████████████████████████████| 578212/578212 [00:01<00:00, 306617.92it/s]\n",
      "100%|██████████████████████████████████████████████████████████████████████| 578212/578212 [00:01<00:00, 447393.13it/s]\n",
      "100%|██████████████████████████████████████████████████████████████████████| 578212/578212 [00:01<00:00, 485964.66it/s]\n",
      "100%|██████████████████████████████████████████████████████████████████████| 578212/578212 [00:00<00:00, 689377.68it/s]\n",
      "100%|██████████████████████████████████████████████████████████████████████| 578212/578212 [00:00<00:00, 739782.42it/s]\n",
      "100%|██████████████████████████████████████████████████████████████████████| 578212/578212 [00:00<00:00, 724011.99it/s]\n",
      "100%|██████████████████████████████████████████████████████████████████████| 578212/578212 [00:00<00:00, 711516.72it/s]\n",
      "100%|█████████████████████████████████████████████████████████████████████| 578212/578212 [00:00<00:00, 2467617.72it/s]\n",
      "100%|██████████████████████████████████████████████████████████████████████| 578212/578212 [00:00<00:00, 772675.11it/s]\n",
      "100%|██████████████████████████████████████████████████████████████████████| 578212/578212 [00:00<00:00, 598382.33it/s]\n",
      "100%|██████████████████████████████████████████████████████████████████████| 578212/578212 [00:00<00:00, 607788.76it/s]\n",
      "100%|██████████████████████████████████████████████████████████████████████| 578212/578212 [00:00<00:00, 619411.71it/s]\n"
     ]
    },
    {
     "name": "stdout",
     "output_type": "stream",
     "text": [
      "Wall time: 1h 39min 5s\n"
     ]
    }
   ],
   "source": [
    "%%time\n",
    "for epoch in range(30):\n",
    "    model_dbow.train(utils.shuffle([x for x in tqdm(train_tagged.values)]), total_examples=len(train_tagged.values), epochs=1)\n",
    "    model_dbow.alpha -= 0.002\n",
    "    model_dbow.min_alpha = model_dbow.alpha"
   ]
  },
  {
   "cell_type": "code",
   "execution_count": 46,
   "metadata": {},
   "outputs": [],
   "source": [
    "def vec_for_learning(model, tagged_docs):\n",
    "    sents = tagged_docs.values\n",
    "    targets, regressors = zip(*[(doc.tags[0], model.infer_vector(doc.words, steps=20)) for doc in sents])\n",
    "    return targets, regressors"
   ]
  },
  {
   "cell_type": "code",
   "execution_count": 47,
   "metadata": {},
   "outputs": [
    {
     "ename": "MemoryError",
     "evalue": "Unable to allocate array with shape (300,) and data type float32",
     "output_type": "error",
     "traceback": [
      "\u001b[1;31m---------------------------------------------------------------------------\u001b[0m",
      "\u001b[1;31mMemoryError\u001b[0m                               Traceback (most recent call last)",
      "\u001b[1;32m<ipython-input-47-f550e54d5bfd>\u001b[0m in \u001b[0;36m<module>\u001b[1;34m\u001b[0m\n\u001b[0;32m      1\u001b[0m \u001b[1;31m# Distributed Bag of Words (DBOW) model\u001b[0m\u001b[1;33m\u001b[0m\u001b[1;33m\u001b[0m\u001b[1;33m\u001b[0m\u001b[0m\n\u001b[0;32m      2\u001b[0m \u001b[1;33m\u001b[0m\u001b[0m\n\u001b[1;32m----> 3\u001b[1;33m \u001b[0my_train\u001b[0m\u001b[1;33m,\u001b[0m \u001b[0mX_train\u001b[0m \u001b[1;33m=\u001b[0m \u001b[0mvec_for_learning\u001b[0m\u001b[1;33m(\u001b[0m\u001b[0mmodel_dbow\u001b[0m\u001b[1;33m,\u001b[0m \u001b[0mtrain_tagged\u001b[0m\u001b[1;33m)\u001b[0m\u001b[1;33m\u001b[0m\u001b[1;33m\u001b[0m\u001b[0m\n\u001b[0m\u001b[0;32m      4\u001b[0m \u001b[0my_test\u001b[0m\u001b[1;33m,\u001b[0m \u001b[0mX_test\u001b[0m \u001b[1;33m=\u001b[0m \u001b[0mvec_for_learning\u001b[0m\u001b[1;33m(\u001b[0m\u001b[0mmodel_dbow\u001b[0m\u001b[1;33m,\u001b[0m \u001b[0mtest_tagged\u001b[0m\u001b[1;33m)\u001b[0m\u001b[1;33m\u001b[0m\u001b[1;33m\u001b[0m\u001b[0m\n\u001b[0;32m      5\u001b[0m \u001b[0mlogreg_dbow\u001b[0m \u001b[1;33m=\u001b[0m \u001b[0mLogisticRegression\u001b[0m\u001b[1;33m(\u001b[0m\u001b[0mn_jobs\u001b[0m\u001b[1;33m=\u001b[0m\u001b[1;36m1\u001b[0m\u001b[1;33m,\u001b[0m \u001b[0mC\u001b[0m\u001b[1;33m=\u001b[0m\u001b[1;36m1e5\u001b[0m\u001b[1;33m,\u001b[0m \u001b[0mmax_iter\u001b[0m\u001b[1;33m=\u001b[0m\u001b[1;36m1000\u001b[0m\u001b[1;33m)\u001b[0m\u001b[1;33m\u001b[0m\u001b[1;33m\u001b[0m\u001b[0m\n",
      "\u001b[1;32m<ipython-input-46-bfac2711ced9>\u001b[0m in \u001b[0;36mvec_for_learning\u001b[1;34m(model, tagged_docs)\u001b[0m\n\u001b[0;32m      1\u001b[0m \u001b[1;32mdef\u001b[0m \u001b[0mvec_for_learning\u001b[0m\u001b[1;33m(\u001b[0m\u001b[0mmodel\u001b[0m\u001b[1;33m,\u001b[0m \u001b[0mtagged_docs\u001b[0m\u001b[1;33m)\u001b[0m\u001b[1;33m:\u001b[0m\u001b[1;33m\u001b[0m\u001b[1;33m\u001b[0m\u001b[0m\n\u001b[0;32m      2\u001b[0m     \u001b[0msents\u001b[0m \u001b[1;33m=\u001b[0m \u001b[0mtagged_docs\u001b[0m\u001b[1;33m.\u001b[0m\u001b[0mvalues\u001b[0m\u001b[1;33m\u001b[0m\u001b[1;33m\u001b[0m\u001b[0m\n\u001b[1;32m----> 3\u001b[1;33m     \u001b[0mtargets\u001b[0m\u001b[1;33m,\u001b[0m \u001b[0mregressors\u001b[0m \u001b[1;33m=\u001b[0m \u001b[0mzip\u001b[0m\u001b[1;33m(\u001b[0m\u001b[1;33m*\u001b[0m\u001b[1;33m[\u001b[0m\u001b[1;33m(\u001b[0m\u001b[0mdoc\u001b[0m\u001b[1;33m.\u001b[0m\u001b[0mtags\u001b[0m\u001b[1;33m[\u001b[0m\u001b[1;36m0\u001b[0m\u001b[1;33m]\u001b[0m\u001b[1;33m,\u001b[0m \u001b[0mmodel\u001b[0m\u001b[1;33m.\u001b[0m\u001b[0minfer_vector\u001b[0m\u001b[1;33m(\u001b[0m\u001b[0mdoc\u001b[0m\u001b[1;33m.\u001b[0m\u001b[0mwords\u001b[0m\u001b[1;33m,\u001b[0m \u001b[0msteps\u001b[0m\u001b[1;33m=\u001b[0m\u001b[1;36m20\u001b[0m\u001b[1;33m)\u001b[0m\u001b[1;33m)\u001b[0m \u001b[1;32mfor\u001b[0m \u001b[0mdoc\u001b[0m \u001b[1;32min\u001b[0m \u001b[0msents\u001b[0m\u001b[1;33m]\u001b[0m\u001b[1;33m)\u001b[0m\u001b[1;33m\u001b[0m\u001b[1;33m\u001b[0m\u001b[0m\n\u001b[0m\u001b[0;32m      4\u001b[0m     \u001b[1;32mreturn\u001b[0m \u001b[0mtargets\u001b[0m\u001b[1;33m,\u001b[0m \u001b[0mregressors\u001b[0m\u001b[1;33m\u001b[0m\u001b[1;33m\u001b[0m\u001b[0m\n",
      "\u001b[1;32m<ipython-input-46-bfac2711ced9>\u001b[0m in \u001b[0;36m<listcomp>\u001b[1;34m(.0)\u001b[0m\n\u001b[0;32m      1\u001b[0m \u001b[1;32mdef\u001b[0m \u001b[0mvec_for_learning\u001b[0m\u001b[1;33m(\u001b[0m\u001b[0mmodel\u001b[0m\u001b[1;33m,\u001b[0m \u001b[0mtagged_docs\u001b[0m\u001b[1;33m)\u001b[0m\u001b[1;33m:\u001b[0m\u001b[1;33m\u001b[0m\u001b[1;33m\u001b[0m\u001b[0m\n\u001b[0;32m      2\u001b[0m     \u001b[0msents\u001b[0m \u001b[1;33m=\u001b[0m \u001b[0mtagged_docs\u001b[0m\u001b[1;33m.\u001b[0m\u001b[0mvalues\u001b[0m\u001b[1;33m\u001b[0m\u001b[1;33m\u001b[0m\u001b[0m\n\u001b[1;32m----> 3\u001b[1;33m     \u001b[0mtargets\u001b[0m\u001b[1;33m,\u001b[0m \u001b[0mregressors\u001b[0m \u001b[1;33m=\u001b[0m \u001b[0mzip\u001b[0m\u001b[1;33m(\u001b[0m\u001b[1;33m*\u001b[0m\u001b[1;33m[\u001b[0m\u001b[1;33m(\u001b[0m\u001b[0mdoc\u001b[0m\u001b[1;33m.\u001b[0m\u001b[0mtags\u001b[0m\u001b[1;33m[\u001b[0m\u001b[1;36m0\u001b[0m\u001b[1;33m]\u001b[0m\u001b[1;33m,\u001b[0m \u001b[0mmodel\u001b[0m\u001b[1;33m.\u001b[0m\u001b[0minfer_vector\u001b[0m\u001b[1;33m(\u001b[0m\u001b[0mdoc\u001b[0m\u001b[1;33m.\u001b[0m\u001b[0mwords\u001b[0m\u001b[1;33m,\u001b[0m \u001b[0msteps\u001b[0m\u001b[1;33m=\u001b[0m\u001b[1;36m20\u001b[0m\u001b[1;33m)\u001b[0m\u001b[1;33m)\u001b[0m \u001b[1;32mfor\u001b[0m \u001b[0mdoc\u001b[0m \u001b[1;32min\u001b[0m \u001b[0msents\u001b[0m\u001b[1;33m]\u001b[0m\u001b[1;33m)\u001b[0m\u001b[1;33m\u001b[0m\u001b[1;33m\u001b[0m\u001b[0m\n\u001b[0m\u001b[0;32m      4\u001b[0m     \u001b[1;32mreturn\u001b[0m \u001b[0mtargets\u001b[0m\u001b[1;33m,\u001b[0m \u001b[0mregressors\u001b[0m\u001b[1;33m\u001b[0m\u001b[1;33m\u001b[0m\u001b[0m\n",
      "\u001b[1;32m~\\anaconda3\\envs\\python36\\lib\\site-packages\\gensim\\models\\doc2vec.py\u001b[0m in \u001b[0;36minfer_vector\u001b[1;34m(self, doc_words, alpha, min_alpha, epochs, steps)\u001b[0m\n\u001b[0;32m    678\u001b[0m                 train_document_dbow(\n\u001b[0;32m    679\u001b[0m                     \u001b[0mself\u001b[0m\u001b[1;33m,\u001b[0m \u001b[0mdoc_words\u001b[0m\u001b[1;33m,\u001b[0m \u001b[0mdoctag_indexes\u001b[0m\u001b[1;33m,\u001b[0m \u001b[0malpha\u001b[0m\u001b[1;33m,\u001b[0m \u001b[0mwork\u001b[0m\u001b[1;33m,\u001b[0m\u001b[1;33m\u001b[0m\u001b[1;33m\u001b[0m\u001b[0m\n\u001b[1;32m--> 680\u001b[1;33m                     \u001b[0mlearn_words\u001b[0m\u001b[1;33m=\u001b[0m\u001b[1;32mFalse\u001b[0m\u001b[1;33m,\u001b[0m \u001b[0mlearn_hidden\u001b[0m\u001b[1;33m=\u001b[0m\u001b[1;32mFalse\u001b[0m\u001b[1;33m,\u001b[0m \u001b[0mdoctag_vectors\u001b[0m\u001b[1;33m=\u001b[0m\u001b[0mdoctag_vectors\u001b[0m\u001b[1;33m,\u001b[0m \u001b[0mdoctag_locks\u001b[0m\u001b[1;33m=\u001b[0m\u001b[0mdoctag_locks\u001b[0m\u001b[1;33m\u001b[0m\u001b[1;33m\u001b[0m\u001b[0m\n\u001b[0m\u001b[0;32m    681\u001b[0m                 )\n\u001b[0;32m    682\u001b[0m             \u001b[1;32melif\u001b[0m \u001b[0mself\u001b[0m\u001b[1;33m.\u001b[0m\u001b[0mdm_concat\u001b[0m\u001b[1;33m:\u001b[0m\u001b[1;33m\u001b[0m\u001b[1;33m\u001b[0m\u001b[0m\n",
      "\u001b[1;32m~\\anaconda3\\envs\\python36\\lib\\site-packages\\gensim\\models\\doc2vec_inner.pyx\u001b[0m in \u001b[0;36mgensim.models.doc2vec_inner.train_document_dbow\u001b[1;34m()\u001b[0m\n",
      "\u001b[1;32m~\\anaconda3\\envs\\python36\\lib\\site-packages\\gensim\\models\\doc2vec_inner.pyx\u001b[0m in \u001b[0;36mgensim.models.doc2vec_inner.init_d2v_config\u001b[1;34m()\u001b[0m\n",
      "\u001b[1;31mMemoryError\u001b[0m: Unable to allocate array with shape (300,) and data type float32"
     ]
    }
   ],
   "source": [
    "# Distributed Bag of Words (DBOW) model\n",
    "\n",
    "y_train, X_train = vec_for_learning(model_dbow, train_tagged)\n",
    "y_test, X_test = vec_for_learning(model_dbow, test_tagged)\n",
    "logreg_dbow = LogisticRegression(n_jobs=1, C=1e5, max_iter=1000)\n",
    "logreg_dbow.fit(X_train, y_train)\n",
    "y_pred = logreg_dbow.predict(X_test)\n",
    "print('xgb_model_dbow Testing accuracy %s' % accuracy_score(y_test, y_pred))\n",
    "print('xgb_model_dbow Testing F1 score: {}'.format(f1_score(y_test, y_pred, average='weighted')))"
   ]
  },
  {
   "cell_type": "markdown",
   "metadata": {},
   "source": [
    "# Distributed memory\n"
   ]
  },
  {
   "cell_type": "code",
   "execution_count": null,
   "metadata": {},
   "outputs": [],
   "source": [
    "#model_dmm = Doc2Vec(dm=1, dm_mean=1, vector_size=300, window=10, negative=5, min_count=1, workers=cores, alpha=0.065, min_alpha=0.065)  #Values from tutorial\n",
    "\n",
    "model_dmm = Doc2Vec(dm=1, dm_mean=0, vector_size=500, window=10, negative=5, min_count=1, workers=cores, alpha=0.1, min_alpha=0) #My optimised values\n",
    "\n",
    "model_dmm.build_vocab([x for x in tqdm(train_tagged.values)])"
   ]
  },
  {
   "cell_type": "code",
   "execution_count": null,
   "metadata": {},
   "outputs": [],
   "source": [
    "%%time\n",
    "for epoch in range(30):\n",
    "    model_dmm.train(utils.shuffle([x for x in tqdm(train_tagged.values)]), total_examples=len(train_tagged.values), epochs=1)\n",
    "    model_dmm.alpha -= 0.002\n",
    "    model_dmm.min_alpha = model_dmm.alpha"
   ]
  },
  {
   "cell_type": "code",
   "execution_count": null,
   "metadata": {},
   "outputs": [],
   "source": [
    "# Distributed Memory (DM) model\n",
    "\n",
    "y_train, X_train = vec_for_learning(model_dmm, train_tagged)\n",
    "y_test, X_test = vec_for_learning(model_dmm, test_tagged)\n",
    "\n",
    "logreg_dmm = LogisticRegression(n_jobs=1, C=1e5, max_iter=1000)\n",
    "logreg_dmm.fit(X_train, y_train)\n",
    "y_pred = logreg_dmm.predict(X_test)\n",
    "\n",
    "print('model_dmm Testing accuracy %s' % accuracy_score(y_test, y_pred))\n",
    "print('model_dmm Testing F1 score: {}'.format(f1_score(y_test, y_pred, average='weighted')))"
   ]
  },
  {
   "cell_type": "markdown",
   "metadata": {},
   "source": [
    "# Combined model pairing"
   ]
  },
  {
   "cell_type": "code",
   "execution_count": null,
   "metadata": {},
   "outputs": [],
   "source": [
    "from gensim.test.test_doc2vec import ConcatenatedDoc2Vec\n",
    "model_new = ConcatenatedDoc2Vec([model_dbow, model_dmm])"
   ]
  },
  {
   "cell_type": "code",
   "execution_count": null,
   "metadata": {},
   "outputs": [],
   "source": [
    "def get_vectors(model, tagged_docs):\n",
    "    sents = tagged_docs.values\n",
    "    targets, regressors = zip(*[(doc.tags[0], model.infer_vector(doc.words, steps=20)) for doc in sents])\n",
    "    return targets, regressors"
   ]
  },
  {
   "cell_type": "code",
   "execution_count": null,
   "metadata": {},
   "outputs": [],
   "source": [
    "# Model Pairing method\n",
    "\n",
    "y_train, X_train = get_vectors(model_new, train_tagged)\n",
    "y_test, X_test = get_vectors(model_new, test_tagged)\n",
    "logreg_new = LogisticRegression(n_jobs=1, C=1e5, max_iter=1000)\n",
    "logreg_new.fit(X_train, y_train)\n",
    "y_pred = logreg_new.predict(X_test)\n",
    "print('xgb_model_new Testing accuracy %s' % accuracy_score(y_test, y_pred))\n",
    "print('xgb_model_new Testing F1 score: {}'.format(f1_score(y_test, y_pred, average='weighted')))"
   ]
  },
  {
   "cell_type": "code",
   "execution_count": null,
   "metadata": {},
   "outputs": [],
   "source": [
    "sim = model_dmm.n_similarity(['covid'], ['coronavirus'])\n",
    "sim2 = model_dmm.n_similarity(['coronavirus'], ['pandemic'])\n",
    "sim3 = model_dmm.n_similarity(['coronavirus'], ['cybersecurity'])\n",
    "sim4 = model_dmm.n_similarity(['cybersecurity'], ['trump'])\n",
    "\n",
    "print(\"{:.4f}\".format(sim))\n",
    "print(\"{:.4f}\".format(sim2))\n",
    "print(\"{:.4f}\".format(sim3))\n",
    "print(\"{:.4f}\".format(sim4))"
   ]
  },
  {
   "cell_type": "code",
   "execution_count": null,
   "metadata": {
    "scrolled": true
   },
   "outputs": [],
   "source": [
    "my_list = ['jenkins', 'most', 'popular', 'software', 'deployment', 'server', 'the', 'world', \n",
    "                                  'learn', 'from', 'our', 'cto', 'about', 'how', 'hackers', 'look', 'misconfigured',\n",
    "                                  'jenkins', 'servers', 'for', 'new', 'places', 'attack', 'jenkins', 'cyber',\n",
    "                                  'insurance', 'cybersecurity', 'atbay']\n",
    "infer_vector = model_dmm.infer_vector(my_list)\n",
    "\n",
    "similar_documents = model_dmm.docvecs.most_similar([infer_vector])\n",
    "similar_documents\n"
   ]
  },
  {
   "cell_type": "markdown",
   "metadata": {},
   "source": [
    "# Apply to tweets"
   ]
  },
  {
   "cell_type": "code",
   "execution_count": null,
   "metadata": {},
   "outputs": [],
   "source": [
    "def get_vectors_apply(model, docs_to_classify):\n",
    "    sents = docs_to_classify.values\n",
    "    regressors = [model.infer_vector(doc.words, steps=20) for doc in sents]\n",
    "    return regressors"
   ]
  },
  {
   "cell_type": "code",
   "execution_count": null,
   "metadata": {},
   "outputs": [],
   "source": [
    "def clean_text(text):\n",
    "    text = re.sub(r\"http\\S+\", \"\", str(text)) #remove urls\n",
    "    text = re.sub(r'\\S+\\.com\\S+','',str(text)) #remove urls\n",
    "    text = re.sub(r'\\@\\w+','',str(text)) #remove mentions\n",
    "    text =re.sub(r'\\#','',str(text)) #remove hashtags\n",
    "    text = re.findall(r'[A-Za-z]+',str(text))\n",
    "    text = ' '.join(text) \n",
    "    return text"
   ]
  },
  {
   "cell_type": "code",
   "execution_count": null,
   "metadata": {
    "scrolled": true
   },
   "outputs": [],
   "source": [
    "src_dir = r'C:\\Users\\elizabeth\\Documents\\cleaned tweets\\cyber friends tweets'\n",
    "\n",
    "files = [file for file in os.listdir(src_dir) if os.path.isfile(os.path.join(src_dir, file))]\n",
    "classifier_model = logreg_new\n",
    "model = model_new\n",
    "\n",
    "with tqdm(total=len(files), desc='Files') as pbar:\n",
    "    i=0\n",
    "    for file in files:\n",
    "        df = pd.read_csv(os.path.join(src_dir, file), low_memory=False)\n",
    "        df = df[df.text != '']\n",
    "        df['clean_tweet'] = df['text'].apply(lambda x: clean_text(x))\n",
    "        test_tagged = df.apply(\n",
    "            lambda r: TaggedDocument(words=tokenize_text(r['clean_tweet']), tags=[r.screen_name]), axis=1)\n",
    "        X_test = get_vectors_apply(model, test_tagged)\n",
    "        df['y_pred'] = classifier_model.predict(X_test)\n",
    "        y_pred_score = classifier_model.predict_proba(X_test)\n",
    "        df2 = pd.DataFrame(y_pred_score)\n",
    "        df2.columns=classifier_model.classes_\n",
    "        df2['score'] = df2.max(axis=1)\n",
    "        df['score'] = df2['score']\n",
    "        df3 = df[['tweet_id','screen_name', 'text', 'y_pred', 'score']].copy()\n",
    "        df4 = pd.concat([df3, df2], axis=1)\n",
    "        df3.to_csv('tweets_trained_topic_modelled_'+str(i)+'.csv', index=False)\n",
    "        df4.to_csv('tweets_trained_all_topics_modelled_'+str(i)+'.csv', index=False)\n",
    "        print(df4.head())\n",
    "        pbar.update(1)\n",
    "        i = i+1\n"
   ]
  },
  {
   "cell_type": "markdown",
   "metadata": {},
   "source": [
    "# How are journalists interests are spread?"
   ]
  },
  {
   "cell_type": "markdown",
   "metadata": {},
   "source": [
    "first we need to drop the row where the classification has been less than 0.5, then we can pool over user_name"
   ]
  },
  {
   "cell_type": "code",
   "execution_count": null,
   "metadata": {},
   "outputs": [],
   "source": [
    "src_dir = r'C:\\Users\\elizabeth\\Documents\\S2DS\\tweets_trained_all_topics'\n",
    "\n",
    "files = [file for file in os.listdir(src_dir) if os.path.isfile(os.path.join(src_dir, file))]\n",
    "ls = list(logreg_dbow.classes_)\n",
    "ls.insert(0, 'screen_name')\n",
    "df_totalled_topics = pd.DataFrame(columns=ls)\n",
    "\n",
    "list(df_totalled_topics)"
   ]
  },
  {
   "cell_type": "code",
   "execution_count": null,
   "metadata": {},
   "outputs": [],
   "source": [
    "with tqdm(total=len(files), desc='Files') as pbar:\n",
    "    for file in files:\n",
    "        df = pd.read_csv(os.path.join(src_dir, file), low_memory=False)\n",
    "        df1 = df.groupby('screen_name')['0', '1', '2','3', '4'].sum()\n",
    "        df_totalled_topics = pd.concat([df_totalled_topics, df1])\n",
    "        pbar.update(1)\n",
    "df_totalled_topics.head()\n"
   ]
  },
  {
   "cell_type": "code",
   "execution_count": null,
   "metadata": {},
   "outputs": [],
   "source": [
    "df_totalled_topics['total'] = df_totalled_topics.sum(axis = 1)"
   ]
  },
  {
   "cell_type": "code",
   "execution_count": null,
   "metadata": {},
   "outputs": [],
   "source": [
    "df2 = df_totalled_topics[['0', '1', '2','3', '4']].div(df_totalled_topics.total, axis=0)\n",
    "df2\n"
   ]
  },
  {
   "cell_type": "code",
   "execution_count": null,
   "metadata": {},
   "outputs": [],
   "source": [
    "df2 = df2.reset_index()\n",
    "df2 = df2.rename(columns={'index': 'user_name'})\n",
    "df2 = df2.columns['user_name', 'Covid19', 'A.I.', 'Cybersecurity', 'Financial tech/cyrptocurrency', 'Other']"
   ]
  },
  {
   "cell_type": "code",
   "execution_count": null,
   "metadata": {},
   "outputs": [],
   "source": [
    "topics = [['covid19', 'lockdown', 'coronavirus', 'mentalhealth', 'healthcare'], \n",
    "['ai', 'ml', 'dtascience', 'artificalintelligence'], \n",
    "['cybersecurity', 'iot', 'robotics', 'infosec'],\n",
    "['fintech', 'blockchain', 'payments', 'cryptocurrency', 'bitcoin', 'cyrpto']]"
   ]
  },
  {
   "cell_type": "code",
   "execution_count": null,
   "metadata": {},
   "outputs": [],
   "source": [
    "df2.to_csv('user_name_topics_summed.csv', index=False)\n"
   ]
  },
  {
   "cell_type": "code",
   "execution_count": null,
   "metadata": {},
   "outputs": [],
   "source": [
    "df3 = df2.set_index('user_name')"
   ]
  },
  {
   "cell_type": "code",
   "execution_count": null,
   "metadata": {
    "scrolled": true
   },
   "outputs": [],
   "source": [
    "\n",
    "\n",
    "x = [0, 0.01, 0.02, 0.03, 0.04, 0.05, 0.06]\n",
    "labels = list(df3.columns)\n",
    "row1 = df3.iloc[0]\n",
    "row1.plot(kind='bar',title='Oxchich', color='r',stacked=False, figsize=(15,5))\n",
    "\n",
    "\n",
    "\n"
   ]
  },
  {
   "cell_type": "code",
   "execution_count": null,
   "metadata": {},
   "outputs": [],
   "source": [
    "x = [0, 0.01, 0.02, 0.03, 0.04, 0.05, 0.06]\n",
    "labels = list(df3.columns)\n",
    "row1 = df3.iloc[1]\n",
    "row1.plot(kind='bar',title='_benkatz', color='r',stacked=False, figsize=(15,5))\n"
   ]
  },
  {
   "cell_type": "code",
   "execution_count": null,
   "metadata": {},
   "outputs": [],
   "source": [
    "x = [0, 0.01, 0.02, 0.03, 0.04, 0.05, 0.06]\n",
    "labels = list(df3.columns)\n",
    "row1 = df3.iloc[2]\n",
    "row1.plot(kind='bar',title='_john_handel', color='r',stacked=False, figsize=(15,5))"
   ]
  },
  {
   "cell_type": "code",
   "execution_count": null,
   "metadata": {},
   "outputs": [],
   "source": [
    "x = [0, 0.01, 0.02, 0.03, 0.04, 0.05, 0.06]\n",
    "labels = list(df3.columns)\n",
    "row1 = df3.loc['gcluley']\n",
    "row1.plot(kind='bar',title='gcluley', color='r',stacked=False, figsize=(15,5))"
   ]
  },
  {
   "cell_type": "markdown",
   "metadata": {},
   "source": [
    "# Wordclouds for a sense check "
   ]
  },
  {
   "cell_type": "code",
   "execution_count": null,
   "metadata": {},
   "outputs": [],
   "source": [
    "!pip install wordcloud\n"
   ]
  },
  {
   "cell_type": "code",
   "execution_count": null,
   "metadata": {},
   "outputs": [],
   "source": [
    "from os import path\n",
    "from PIL import Image\n",
    "from wordcloud import WordCloud, STOPWORDS, ImageColorGenerator\n",
    "import matplotlib.pyplot as plt"
   ]
  },
  {
   "cell_type": "code",
   "execution_count": null,
   "metadata": {},
   "outputs": [],
   "source": [
    "def wordcloud_plot(text):\n",
    "    wordcloud = WordCloud(collocations=False, \n",
    "                          width = 1000, \n",
    "                          height = 700, \n",
    "                          background_color ='white', \n",
    "                          min_font_size = 10).generate(text)\n",
    "    \n",
    "    plt.figure(figsize = (8,8))\n",
    "    plt.imshow(wordcloud, interpolation='bilinear')\n",
    "    plt.axis(\"off\")\n",
    "    plt.tight_layout(pad = 0)\n",
    "    plt.show()"
   ]
  },
  {
   "cell_type": "code",
   "execution_count": null,
   "metadata": {
    "scrolled": true
   },
   "outputs": [],
   "source": [
    "src_dir = r'C:\\Users\\elizabeth\\Documents\\S2DS\\tweets_trained_topic_modelled'\n",
    "\n",
    "files = [file for file in os.listdir(src_dir) if os.path.isfile(os.path.join(src_dir, file))]\n",
    "with tqdm(total=len(files), desc='Files') as pbar:\n",
    "    for file in files:\n",
    "        df = pd.read_csv(os.path.join(src_dir, file), low_memory=False)\n",
    "        df1 = df.groupby(['y_pred'])[['text']].sum()\n",
    "        pbar.update(1)\n",
    "        \n",
    "\n"
   ]
  },
  {
   "cell_type": "code",
   "execution_count": null,
   "metadata": {},
   "outputs": [],
   "source": [
    "df1.head(3).style.set_properties(subset=['text'], **{'width':'1000px'})"
   ]
  },
  {
   "cell_type": "code",
   "execution_count": null,
   "metadata": {},
   "outputs": [],
   "source": [
    "wordcloud_plot(df1['text'][0])\n"
   ]
  },
  {
   "cell_type": "code",
   "execution_count": null,
   "metadata": {},
   "outputs": [],
   "source": [
    "wordcloud_plot(df1['text'][1])"
   ]
  },
  {
   "cell_type": "code",
   "execution_count": null,
   "metadata": {},
   "outputs": [],
   "source": [
    "wordcloud_plot(df1['text'][2])"
   ]
  },
  {
   "cell_type": "code",
   "execution_count": null,
   "metadata": {},
   "outputs": [],
   "source": [
    "wordcloud_plot(df1['text'][3])"
   ]
  },
  {
   "cell_type": "code",
   "execution_count": null,
   "metadata": {},
   "outputs": [],
   "source": [
    "wordcloud_plot(df1['text'][4])"
   ]
  },
  {
   "cell_type": "code",
   "execution_count": null,
   "metadata": {},
   "outputs": [],
   "source": [
    "print(df3['0'].idxmax(), )\n",
    "print(df3['1'].idxmax(), )\n",
    "print(df3['2'].idxmax(), )\n",
    "print(df3['3'].idxmax(), )"
   ]
  },
  {
   "cell_type": "code",
   "execution_count": null,
   "metadata": {},
   "outputs": [],
   "source": [
    "xlabels = [0.0, 0.1, 0.2, 0.3, 0.4,  0.5, 0.6, 0.7]\n",
    "labels = ['Covid19', 'A.I.', 'Cybersecurity', 'Finincial technology', 'Other']\n",
    "row1 = df3.loc['davidjoberly']\n",
    "fig = row1.plot(kind='barh', color='r',stacked=False, figsize=(15,5))\n",
    "fig.set_ylabel('Topics', fontsize=30)\n",
    "fig.set_xlabel('Proportion of tweets', fontsize=30)\n",
    "fig.set_yticklabels(labels, fontsize=20)\n",
    "fig.set_xticklabels(xlabels, fontsize=20)\n",
    "fig.set_title('davidjoberly', fontsize = 30 )\n",
    "fig.figure.savefig('davidjoberly.png')"
   ]
  },
  {
   "cell_type": "code",
   "execution_count": null,
   "metadata": {},
   "outputs": [],
   "source": [
    "xlabels = [0.0, 0.1, 0.2, 0.3, 0.4,  0.5, 0.6, 0.7]\n",
    "labels = ['Covid19', 'A.I.', 'Cybersecurity', 'Finincial technology', 'Other']\n",
    "row1 = df3.loc['keepnetlabs']\n",
    "ax = row1.plot(kind='barh', color='r',stacked=False, figsize=(15,5))\n",
    "ax.set_ylabel('Topics', fontsize=30)\n",
    "ax.set_xlabel('Proportion of tweets', fontsize=30)\n",
    "ax.set_yticklabels(labels, fontsize=20)\n",
    "ax.set_xticklabels(xlabels, fontsize=20)\n",
    "ax.set_title('keepnetlabs', fontsize = 30 )\n",
    "fig.figure.savefig('keepnetlabs.jpeg')"
   ]
  },
  {
   "cell_type": "code",
   "execution_count": null,
   "metadata": {},
   "outputs": [],
   "source": [
    "xlabels = [0.0, 0.1, 0.2, 0.3, 0.4,  0.5, 0.6, 0.7]\n",
    "labels = ['Covid19', 'A.I.', 'Cybersecurity', 'Finincial technology', 'Other']\n",
    "row1 = df3.loc['infosec_b']\n",
    "ax = row1.plot(kind='barh', color='r',stacked=False, figsize=(15,5))\n",
    "ax.set_ylabel('Topics', fontsize=30)\n",
    "ax.set_xlabel('Proportion of tweets', fontsize=30)\n",
    "ax.set_yticklabels(labels, fontsize=20)\n",
    "ax.set_xticklabels(xlabels, fontsize=20)\n",
    "ax.set_title('infosec_b', fontsize = 30 )\n",
    "fig.figure.savefig('infosec_b.jpeg')"
   ]
  },
  {
   "cell_type": "code",
   "execution_count": null,
   "metadata": {},
   "outputs": [],
   "source": [
    "xlabels = [0.0, 0.1, 0.2, 0.3, 0.4,  0.5, 0.6, 0.7]\n",
    "labels = ['Covid19', 'A.I.', 'Cybersecurity', 'Finincial technology', 'Other']\n",
    "row1 = df3.loc['autonofintech']\n",
    "ax = row1.plot(kind='barh', color='r',stacked=False, figsize=(15,5))\n",
    "ax.set_ylabel('Topics', fontsize=30)\n",
    "ax.set_xlabel('Proportion of tweets', fontsize=30)\n",
    "ax.set_yticklabels(labels, fontsize=20)\n",
    "ax.set_xticklabels(xlabels, fontsize=20)\n",
    "ax.set_title('autonofintech', fontsize = 30 )\n",
    "fig.figure.savefig('autonofintech.jpeg')"
   ]
  }
 ],
 "metadata": {
  "kernelspec": {
   "display_name": "Python 3",
   "language": "python",
   "name": "python3"
  },
  "language_info": {
   "codemirror_mode": {
    "name": "ipython",
    "version": 3
   },
   "file_extension": ".py",
   "mimetype": "text/x-python",
   "name": "python",
   "nbconvert_exporter": "python",
   "pygments_lexer": "ipython3",
   "version": "3.6.10"
  }
 },
 "nbformat": 4,
 "nbformat_minor": 4
}
